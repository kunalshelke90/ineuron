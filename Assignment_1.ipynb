{
 "cells": [
  {
   "cell_type": "markdown",
   "id": "0da076d7",
   "metadata": {},
   "source": [
    "#  In the below elements which of them are values or an expression? eg:- values can be integer or string and expressions will be mathematical operators.\n",
    "\n",
    "* \n",
    "\n",
    "'hello'\n",
    "\n",
    "-87.8\n",
    "\n",
    "- \n",
    "\n",
    "/ \n",
    "\n",
    "6 \n",
    "\n",
    "\n",
    "hello , 87 and 6 are values\n",
    "\n",
    "*,-,/ are expressions"
   ]
  },
  {
   "cell_type": "markdown",
   "id": "5dde5186",
   "metadata": {},
   "source": [
    "# What is the difference between string and variable?\n",
    "\n",
    "A string is a specific type of data representing text.\n",
    "\n",
    "A variable is a named container that can hold different types of data including strings.\n",
    "\n",
    "Variables are used to store and manipulate data including strings while strings are a type of data that can be stored in variables."
   ]
  },
  {
   "cell_type": "markdown",
   "id": "f391b3d0",
   "metadata": {},
   "source": [
    "# Describe three different data types.\n",
    "\n",
    "Integer (int):\n",
    "\n",
    "Integer is a data type used to represent whole numbers both positive and negative without any decimal point.\n",
    "Examples of integers include -5, 0, 42, 100, etc.\n",
    "\n",
    "Float (float):\n",
    "\n",
    "Float is a data type used to represent numbers with a decimal point or numbers in scientific notation .\n",
    "Examples of floats include -3.14, 0.5, 2.71828, 6.022e23, etc.\n",
    "\n",
    "String (str):\n",
    "\n",
    "String is a data type used to represent text data consisting of a sequence of characters enclosed within single quotes (' '), double quotes (\" \"), or triple quotes (''' ''' or \"\"\" \"\"\")."
   ]
  },
  {
   "cell_type": "markdown",
   "id": "5cdeea19",
   "metadata": {},
   "source": [
    "# What is an expression made up of? What do all expressions do?\n",
    "\n",
    "Literals: Constants representing fixed values. Examples include integers, floats, strings and boolean values.\n",
    "    \n",
    "Variables: Named storage locations that hold values. Variables are placeholders for data that can vary during program execution.\n",
    "    \n",
    "Operators: Symbols that perform operations on operands. Examples include arithmetic operators (+, -, *, /), comparison operators (==, !=, <, >) logical operators (and, or, not) etc.\n",
    "    \n",
    "Function Calls: Invocations of functions that perform specific tasks. Functions take input arguments, perform operations and return results."
   ]
  },
  {
   "cell_type": "markdown",
   "id": "483a7313",
   "metadata": {},
   "source": [
    "# This assignment statements, like spam = 10. What is the difference between an expression and a statement?\n",
    "\n",
    "\n",
    "An expression is a combination of elements that produces a value.\n",
    "\n",
    "A statement is a complete unit of execution that performs an action or defines behavior.\n",
    "\n",
    "Expressions can be part of statements but not all statements contain expressions.\n",
    "\n",
    "Expressions can stand alone, whereas statements cannot be nested within other statements.\n",
    "\n",
    "spam = 10 is an assignment statement that assigns the value 10 to the variable spam. The right side of the assignment (10) is an expression."
   ]
  },
  {
   "cell_type": "markdown",
   "id": "6a69c74e",
   "metadata": {},
   "source": [
    "# After running the following code, what does the variable bacon contain?\n",
    "\n",
    "bacon = 22\n",
    "\n",
    "bacon + 1\n",
    "\n",
    "\n",
    "The variable bacon will still contain the value 22 this is because the expression bacon + 1 evaluates to 23 but the result is not assigned back to the variable bacon"
   ]
  },
  {
   "cell_type": "markdown",
   "id": "d193e001",
   "metadata": {},
   "source": [
    "# What should the values of the following two terms be?\n",
    "\n",
    "'spam' + 'spamspam':-This expression concatenates two strings 'spam' and 'spamspam'. The result is 'spamspamspam'.\n",
    "\n",
    "'spam' * 3:- This expression repeats the string 'spam' three times. The result is 'spamspamspam'.\n"
   ]
  },
  {
   "cell_type": "markdown",
   "id": "090ab8b7",
   "metadata": {},
   "source": [
    "# Why is eggs a valid variable name while 100 is invalid?\n",
    "\n",
    "Variable names must start with a letter (a-z, A-Z) or an underscore (_) They cannot start with a digit.\n",
    "\n",
    "Example of a valid variable name: eggs\n",
    "\n",
    "Example of an invalid variable name: 100\n"
   ]
  },
  {
   "cell_type": "markdown",
   "id": "2a88b646",
   "metadata": {},
   "source": [
    "# What three functions can be used to get the integer, floating-point number, or string version of a value?\n",
    "\n",
    "int(): This function is used to convert a value to an integer.\n",
    "\n",
    "float(): This function is used to convert a value to a floating-point number. \n",
    "\n",
    "str(): This function is used to convert a value to a string.\n"
   ]
  },
  {
   "cell_type": "code",
   "execution_count": 3,
   "id": "212a479b",
   "metadata": {},
   "outputs": [],
   "source": [
    "integer_value = int(10.5)  # Converts float to int\n",
    "\n",
    "float_value = float(\"3.14\")  # Converts string to float\n",
    "\n",
    "string_value = str(42)  # Converts int to string\n"
   ]
  },
  {
   "cell_type": "markdown",
   "id": "a562333d",
   "metadata": {},
   "source": [
    "# Why does this expression cause an error? How can you fix it?\n",
    "\n",
    "# 'I have eaten ' + 99 + ' burritos.'\n",
    "\n",
    "The expression 'I have eaten ' + 99 + ' burritos.' causes an error because you are trying to concatenate a string with an integer (99) but in Python string concatenation can only be performed between strings.\n",
    "\n",
    "To fix the error, you need to convert the integer 99 to a string before concatenating it with the other strings. \n"
   ]
  },
  {
   "cell_type": "code",
   "execution_count": 4,
   "id": "071bff6c",
   "metadata": {},
   "outputs": [
    {
     "data": {
      "text/plain": [
       "'I have eaten 99 burritos.'"
      ]
     },
     "execution_count": 4,
     "metadata": {},
     "output_type": "execute_result"
    }
   ],
   "source": [
    "'I have eaten ' + str(99) + ' burritos.'\n"
   ]
  },
  {
   "cell_type": "code",
   "execution_count": null,
   "id": "0faa982e",
   "metadata": {},
   "outputs": [],
   "source": []
  }
 ],
 "metadata": {
  "kernelspec": {
   "display_name": "Python 3 (ipykernel)",
   "language": "python",
   "name": "python3"
  },
  "language_info": {
   "codemirror_mode": {
    "name": "ipython",
    "version": 3
   },
   "file_extension": ".py",
   "mimetype": "text/x-python",
   "name": "python",
   "nbconvert_exporter": "python",
   "pygments_lexer": "ipython3",
   "version": "3.11.4"
  }
 },
 "nbformat": 4,
 "nbformat_minor": 5
}
