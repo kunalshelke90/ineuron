{
 "cells": [
  {
   "cell_type": "markdown",
   "id": "d1e3d598",
   "metadata": {},
   "source": [
    "# Create two int type variables, apply addition, subtraction, division and multiplications and store the results in variables. Then print the data in the following format by calling the variables:\n",
    "\n",
    "First variable is __ & second variable is __.\n",
    "\n",
    "Addition: __ + __ = __\n",
    "\n",
    "Subtraction: __ - __ = __\n",
    "\n",
    "Multiplication: __ * __ = __\n",
    "\n",
    "Division: __ / __ = _\n"
   ]
  },
  {
   "cell_type": "code",
   "execution_count": 1,
   "id": "08cbcc18",
   "metadata": {},
   "outputs": [
    {
     "name": "stdout",
     "output_type": "stream",
     "text": [
      "First variable is 10 & second variable is 5.\n",
      "Addition: 10 + 5 = 15\n",
      "Subtraction: 10 - 5 = 5\n",
      "Multiplication: 10 * 5 = 50\n",
      "Division: 10 / 5 = 2.0\n"
     ]
    }
   ],
   "source": [
    "\n",
    "first_variable = 10\n",
    "second_variable = 5\n",
    "\n",
    "# Performing  addition, subtraction, multiplication and division\n",
    "addition_result = first_variable + second_variable\n",
    "subtraction_result = first_variable - second_variable\n",
    "multiplication_result = first_variable * second_variable\n",
    "division_result = first_variable / second_variable\n",
    "\n",
    "\n",
    "print(f\"First variable is {first_variable} & second variable is {second_variable}.\")\n",
    "print(f\"Addition: {first_variable} + {second_variable} = {addition_result}\")\n",
    "print(f\"Subtraction: {first_variable} - {second_variable} = {subtraction_result}\")\n",
    "print(f\"Multiplication: {first_variable} * {second_variable} = {multiplication_result}\")\n",
    "print(f\"Division: {first_variable} / {second_variable} = {division_result}\")\n"
   ]
  },
  {
   "cell_type": "markdown",
   "id": "dc2929a5",
   "metadata": {},
   "source": [
    "# What is the difference between the following operators:\n",
    "\n",
    "(i) ‘/’ & ‘//’\n",
    "\n",
    "/ is the division operator in python, which performs floating-point division, meaning it returns a floating-point result.\n",
    "\n",
    "// is the floor division operator in python which performs integer division. It returns the integer part of the quotient and discards the fractional part.\n",
    "\n",
    "(ii) ‘**’ & ‘^'\n",
    "\n",
    "** is the exponentiation operator in python which raises the left operand to the power of the right operand.\n",
    "\n",
    "^ is the bitwise XOR operator in python which performs bitwise XOR operation on the binary representations of the operands.\n",
    "\n"
   ]
  },
  {
   "cell_type": "code",
   "execution_count": 2,
   "id": "7b56725b",
   "metadata": {},
   "outputs": [],
   "source": [
    "\n",
    "result1 = 7 / 2   \n",
    "result2 = 7 // 2 \n",
    "\n",
    "result3 = 2 ** 3 \n",
    "result4 = 5 ^ 3   \n"
   ]
  },
  {
   "cell_type": "markdown",
   "id": "d58b1751",
   "metadata": {},
   "source": [
    "# List the logical operators.\n",
    "\n",
    "Here are the logical operators in Python:\n",
    "\n",
    "and: Returns True if both operands are True, otherwise returns False.\n",
    "\n",
    "or: Returns True if at least one of the operands is True otherwise returns False.\n",
    "\n",
    "not: Returns the negation of the operand if the operand is True returns False if the operand is False returns True."
   ]
  },
  {
   "cell_type": "markdown",
   "id": "c8119694",
   "metadata": {},
   "source": [
    "#  Explain right shift operator and left shift operator with examples.\n",
    "\n",
    "Right shift operator (>>) shifts the bits of a number to the right by a specified number of positions it moves each bit to the right by the specified number of positions and the vacant positions on the left are filled with zeros  the right shift operation effectively divides an integer by a power of 2.\n",
    "\n",
    "Left shift operator (<<) shifts the bits of a number to the left by a specified number of positions it moves each bit to the left by the specified number of positions and the vacant positions on the right are filled with zeros the left shift operation effectively multiplies an integer by a power of 2.\n"
   ]
  },
  {
   "cell_type": "code",
   "execution_count": 5,
   "id": "fe0c049d",
   "metadata": {},
   "outputs": [
    {
     "name": "stdout",
     "output_type": "stream",
     "text": [
      "2\n",
      "16\n"
     ]
    }
   ],
   "source": [
    "#Example:\n",
    "num = 8  # Binary representation:- 0b1000\n",
    "result = num >> 2  # Shifts the bits of num 2 positions to the right\n",
    "print(result)  \n",
    "\n",
    "#Example \n",
    "num = 2  # Binary representation:- 0b10\n",
    "result = num << 3  # Shifts the bits of num 3 positions to the left\n",
    "print(result)  "
   ]
  },
  {
   "cell_type": "markdown",
   "id": "2a37ef6e",
   "metadata": {},
   "source": [
    "# Create a list containing int type data of length 15. Then write a code to check if 10 is present in the list or not "
   ]
  },
  {
   "cell_type": "code",
   "execution_count": 7,
   "id": "61e20712",
   "metadata": {},
   "outputs": [
    {
     "name": "stdout",
     "output_type": "stream",
     "text": [
      "10 is present in the list.\n"
     ]
    }
   ],
   "source": [
    "my_list = [1, 2, 3, 4, 5, 6, 7, 8, 9, 10, 11, 12, 13, 14, 15]\n",
    "\n",
    "if 10 in my_list:\n",
    "    print(\"10 is present in the list.\")\n",
    "else:\n",
    "    print(\"10 is not present in the list.\")\n"
   ]
  },
  {
   "cell_type": "code",
   "execution_count": null,
   "id": "3014892c",
   "metadata": {},
   "outputs": [],
   "source": []
  }
 ],
 "metadata": {
  "kernelspec": {
   "display_name": "Python 3 (ipykernel)",
   "language": "python",
   "name": "python3"
  },
  "language_info": {
   "codemirror_mode": {
    "name": "ipython",
    "version": 3
   },
   "file_extension": ".py",
   "mimetype": "text/x-python",
   "name": "python",
   "nbconvert_exporter": "python",
   "pygments_lexer": "ipython3",
   "version": "3.11.4"
  }
 },
 "nbformat": 4,
 "nbformat_minor": 5
}
