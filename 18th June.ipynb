{
 "cells": [
  {
   "cell_type": "markdown",
   "id": "2349c126",
   "metadata": {},
   "source": [
    "# What is the role of the 'else' block in a try-except statement? Provide an example scenario where it would be useful\n",
    "\n",
    "\n",
    "try-except statement  the else block is executed if the code inside the try block runs successfully without raising any exceptions. The primary role of the else block is to contain code that should only execute if no exceptions occur."
   ]
  },
  {
   "cell_type": "code",
   "execution_count": 1,
   "id": "76cde970",
   "metadata": {},
   "outputs": [
    {
     "name": "stdout",
     "output_type": "stream",
     "text": [
      "File not found.\n"
     ]
    }
   ],
   "source": [
    "try:\n",
    "    file = open(\"example.txt\", \"r\")\n",
    "except FileNotFoundError:                                          # Handle the case where the file does not exist\n",
    "    print(\"File not found.\")\n",
    "else:\n",
    "    content = file.read()                                             # Read and print the contents of the file if it exists\n",
    "    print(\"File content:\")\n",
    "    print(content)\n",
    "    file.close()\n"
   ]
  },
  {
   "cell_type": "markdown",
   "id": "ef4ab32b",
   "metadata": {},
   "source": [
    "# Can a try-except block be nested inside another try-except block? Explain with an example\n",
    "\n",
    "Yes a try-except block can be nested inside another try-except block this allows for more granular exception handling  where different parts of the code can have their own exception handling logic.\n",
    "\n",
    "Here's an example to illustrate this:"
   ]
  },
  {
   "cell_type": "code",
   "execution_count": 2,
   "id": "bea943a4",
   "metadata": {},
   "outputs": [
    {
     "name": "stdout",
     "output_type": "stream",
     "text": [
      "Enter a numerator: 4\n",
      "Enter a denominator: 5\n",
      "Result of division: 0.8\n"
     ]
    }
   ],
   "source": [
    "try:\n",
    "    # Outer try block\n",
    "    num1 = int(input(\"Enter a numerator: \"))\n",
    "    num2 = int(input(\"Enter a denominator: \"))\n",
    "    \n",
    "    try:\n",
    "        # Inner try block\n",
    "        result = num1 / num2\n",
    "    except ZeroDivisionError:\n",
    "        print(\"Error: Cannot divide by zero.\")  # Handle division by zero error inside the inner try-except block\n",
    "    else:\n",
    "        # Inner else block\n",
    "        print(\"Result of division:\", result)\n",
    "        \n",
    "except ValueError:\n",
    "    print(\"Error: Please enter valid integers.\")\n"
   ]
  },
  {
   "cell_type": "markdown",
   "id": "02ef1d96",
   "metadata": {},
   "source": [
    "# How can you create a custom exception class in Python? Provide an example that demonstrates its usage.\n",
    "\n",
    "In Python you can create custom exception classes by subclassing the builtin Exception class or one of its subclasses. \n",
    "\n",
    "Here's an example demonstrating how to create and use a custom exception class:"
   ]
  },
  {
   "cell_type": "code",
   "execution_count": 3,
   "id": "40c2e032",
   "metadata": {},
   "outputs": [
    {
     "name": "stdout",
     "output_type": "stream",
     "text": [
      "Custom error occurred: Cannot divide by zero.\n"
     ]
    }
   ],
   "source": [
    "class MyCustomError(Exception):\n",
    "    \"\"\"Custom exception class.\"\"\"\n",
    "    def __init__(self, message):\n",
    "        super().__init__(message)\n",
    "        self.message = message\n",
    "\n",
    "def divide(a, b):\n",
    "    if b == 0:\n",
    "        raise MyCustomError(\"Cannot divide by zero.\")\n",
    "    return a / b\n",
    "\n",
    "try:\n",
    "    result = divide(10, 0)\n",
    "except MyCustomError as e:\n",
    "    print(\"Custom error occurred:\", e)\n",
    "else:\n",
    "    print(\"Result of division:\", result)\n"
   ]
  },
  {
   "cell_type": "markdown",
   "id": "2dea39b5",
   "metadata": {},
   "source": [
    "# What are some common exceptions that are built-in to Python?\n",
    "\n",
    "SyntaxError:- Raised when there is a syntax error in the code.\n",
    "\n",
    "IndentationError:- Raised when there is incorrect indentation in the code.\n",
    "\n",
    "TypeError:- Raised when an operation or function is applied to an object of inappropriate type.\n",
    "\n",
    "ValueError:-Raised when a built-in operation or function receives an argument that has the right type but an inappropriate value.\n",
    "\n",
    "KeyError:- Raised when a dictionary key is not found.\n",
    "\n",
    "FileNotFoundError:- Raised when a file or directory is requested but cannot be found.\n",
    "\n",
    "ZeroDivisionError:- Raised when division or modulo by zero is encountered."
   ]
  },
  {
   "cell_type": "markdown",
   "id": "26bc5d99",
   "metadata": {},
   "source": [
    "#  What is logging in Python, and why is it important in software development?\n",
    "\n",
    "Logging is a built-in module that provides a flexible and powerful framework for recording messages from a python program it allows developers to track events that occur during program execution such as errors, warnings, informational messages and debugging information.\n"
   ]
  },
  {
   "cell_type": "markdown",
   "id": "820fc76d",
   "metadata": {},
   "source": [
    "# Explain the purpose of log levels in Python logging and provide examples of when each log level would be appropriate\n",
    "\n",
    "Logging log levels are used to categorize log messages based on their severity or importance. Python logging module provides several builtin log levels each representing a different level of urgency or significance. The purpose of log levels is to allow developers to control which messages are captured and recorded based on their importance making it easier to manage and analyze logs effectively.\n",
    "\n",
    "Here are the standard log levels in Python logging listed from lowest severity to highest:\n",
    "\n",
    "DEBUG :- This is the lowest log level and is typically used for detailed debugging information. \n",
    "\n",
    "INFO :- This log level is used for general informational messages that highlight the progress or state of the application.\n",
    "\n",
    "WARNING :- This log level is used to indicate potential issues or situations that might lead to problems in the future.\n",
    "\n",
    "ERROR :- This log level is used to report errors or exceptional conditions that occur during the execution of the application\n",
    "\n",
    "CRITICAL : -This is the highest log level and is used to indicate critical errors or conditions that require immediate attention."
   ]
  },
  {
   "cell_type": "markdown",
   "id": "06e0b1f0",
   "metadata": {},
   "source": [
    "# What are log formatters in Python logging, and how can you customise the log message format using formatters?\n",
    "\n",
    "In Log formatters are objects responsible for defining the layout and structure of log messages they specify how log records are formatted before being emitted to the desired output such as the console , file or a network socket. Log formatters allow developers to customize the appearance of log messages by including various pieces of information such as timestamps, log levels, module names and custom messages."
   ]
  },
  {
   "cell_type": "code",
   "execution_count": 4,
   "id": "611299cb",
   "metadata": {},
   "outputs": [
    {
     "name": "stderr",
     "output_type": "stream",
     "text": [
      "2024-06-05 18:41:16,322 - DEBUG - This is a debug message\n",
      "2024-06-05 18:41:16,323 - INFO - This is an info message\n",
      "2024-06-05 18:41:16,323 - WARNING - This is a warning message\n",
      "2024-06-05 18:41:16,324 - ERROR - This is an error message\n",
      "2024-06-05 18:41:16,325 - CRITICAL - This is a critical message\n"
     ]
    }
   ],
   "source": [
    "import logging\n",
    "\n",
    "# Create a formatter with a custom log message format\n",
    "formatter = logging.Formatter('%(asctime)s - %(levelname)s - %(message)s')\n",
    "\n",
    "# Create a handler to output log messages to the console\n",
    "console_handler = logging.StreamHandler()\n",
    "console_handler.setFormatter(formatter)\n",
    "\n",
    "# Create a logger and add the console handler\n",
    "logger = logging.getLogger('example_logger')\n",
    "logger.addHandler(console_handler)\n",
    "logger.setLevel(logging.DEBUG)  # Set log level to DEBUG\n",
    "\n",
    "# Log some messages with different log levels\n",
    "logger.debug('This is a debug message')\n",
    "logger.info('This is an info message')\n",
    "logger.warning('This is a warning message')\n",
    "logger.error('This is an error message')\n",
    "logger.critical('This is a critical message')\n"
   ]
  },
  {
   "cell_type": "markdown",
   "id": "15fc8d07",
   "metadata": {},
   "source": [
    "# How can you set up logging to capture log messages from multiple modules or classes in a Python application?\n",
    "\n",
    "we can set up logging to capture log messages from multiple modules or classes by configuring a logger hierarchy this allows you to organize and manage logging across different parts of your application effectively. Here is how you can set up logging to capture log messages from multiple modules or classes:"
   ]
  },
  {
   "cell_type": "code",
   "execution_count": null,
   "id": "c5f3091b",
   "metadata": {},
   "outputs": [
    {
     "ename": "ModuleNotFoundError",
     "evalue": "No module named 'logger_setup'",
     "output_type": "error",
     "traceback": [
      "\u001b[1;31m---------------------------------------------------------------------------\u001b[0m",
      "\u001b[1;31mModuleNotFoundError\u001b[0m                       Traceback (most recent call last)",
      "Cell \u001b[1;32mIn[5], line 23\u001b[0m\n\u001b[0;32m     20\u001b[0m     logger\u001b[38;5;241m.\u001b[39mwarning(\u001b[38;5;124m'\u001b[39m\u001b[38;5;124mDoing something else\u001b[39m\u001b[38;5;124m'\u001b[39m)\n\u001b[0;32m     22\u001b[0m \u001b[38;5;66;03m# main.py\u001b[39;00m\n\u001b[1;32m---> 23\u001b[0m \u001b[38;5;28;01mfrom\u001b[39;00m \u001b[38;5;21;01mlogger_setup\u001b[39;00m \u001b[38;5;28;01mimport\u001b[39;00m setup_logging\n\u001b[0;32m     24\u001b[0m \u001b[38;5;28;01mimport\u001b[39;00m \u001b[38;5;21;01mmodule1\u001b[39;00m\n\u001b[0;32m     25\u001b[0m \u001b[38;5;28;01mimport\u001b[39;00m \u001b[38;5;21;01mmodule2\u001b[39;00m\n",
      "\u001b[1;31mModuleNotFoundError\u001b[0m: No module named 'logger_setup'"
     ]
    }
   ],
   "source": [
    "\n",
    "# logger_setup.py\n",
    "import logging\n",
    "\n",
    "def setup_logging():\n",
    "    logging.basicConfig(level=logging.DEBUG,format='%(asctime)s - %(name)s - %(levelname)s - %(message)s')\n",
    "\n",
    "# module1.py\n",
    "import logging\n",
    "logger = logging.getLogger(__name__)\n",
    "\n",
    "def do_something():\n",
    "    logger.info('Doing something')\n",
    "\n",
    "# module2.py\n",
    "import logging\n",
    "logger = logging.getLogger(__name__)\n",
    "\n",
    "def do_something_else():\n",
    "    logger.warning('Doing something else')\n",
    "\n",
    "# main.py\n",
    "from logger_setup import setup_logging\n",
    "import module1\n",
    "import module2\n",
    "\n",
    "def main():\n",
    "    # Setup logging\n",
    "    setup_logging()\n",
    "\n",
    "    # Call functions from modules\n",
    "    module1.do_something()\n",
    "    module2.do_something_else()\n",
    "    \n",
    "if __name__ == \"__main__\":\n",
    "    main()"
   ]
  },
  {
   "cell_type": "markdown",
   "id": "071f1920",
   "metadata": {},
   "source": [
    "# What is the difference between the logging and print statements in Python? When should you use logging over print statements in a real-world application?\n",
    "\n",
    "Logging and print statements serve different purposes :\n",
    "\n",
    "Logging: Logging is primarily used for recording events, errors, and other important information during the execution of a program. Log messages are typically captured in log files or other designated destinations for monitoring, debugging, and analysis purposes.\n",
    "Logging  is preferred over print statements in real-world applications for several reasons Flexibility , Customization , Production Readiness and Performance.\n",
    "\n",
    "Print Statements: Print statements are used for displaying information directly to the console or standard output they are often used for temporary debugging, quick verification of program state, or displaying output for users.\n",
    "Print statements are typically used for quick debugging or development tasks such as verifying the value of variables, tracing the flow of execution or displaying simple output to users during development."
   ]
  },
  {
   "cell_type": "markdown",
   "id": "6f613c57",
   "metadata": {},
   "source": [
    "# Write a Python program that logs a message to a file named \"app.log\" with the following requirements:\n",
    "\n",
    "● The log message should be \"Hello, World!\"\n",
    "\n",
    "● The log level should be set to \"INFO.\"\n",
    "\n",
    "● The log file should append new log entries without overwriting previous ones."
   ]
  },
  {
   "cell_type": "code",
   "execution_count": null,
   "id": "ce1e56b4",
   "metadata": {},
   "outputs": [],
   "source": [
    "import logging\n",
    "\n",
    "def main():\n",
    "\n",
    "    logging.basicConfig(filename='app.log', level=logging.INFO,format='%(asctime)s - %(levelname)s - %(message)s',filemode='a')\n",
    "    logging.info(\"Hello, World!\")\n",
    "\n",
    "if __name__ == \"__main__\":\n",
    "    main()\n"
   ]
  },
  {
   "cell_type": "markdown",
   "id": "ab49a8f0",
   "metadata": {},
   "source": [
    "# Create a Python program that logs an error message to the console and a file named \"errors.log\" if an exception occurs during the program's execution. The error message should include the exception type and a timestamp"
   ]
  },
  {
   "cell_type": "code",
   "execution_count": 7,
   "id": "b68c75d5",
   "metadata": {},
   "outputs": [],
   "source": [
    "import logging\n",
    "import datetime\n",
    "\n",
    "def main():\n",
    "    # configuring logging to write to the console and a file\n",
    "    logging.basicConfig(level=logging.INFO,format='%(asctime)s - %(levelname)s - %(message)s')\n",
    "\n",
    "    # Creating  a file handler to write error messages to a file\n",
    "    file_handler = logging.FileHandler('errors.log')\n",
    "    file_handler.setLevel(logging.ERROR)\n",
    "    file_handler.setFormatter(logging.Formatter('%(asctime)s - %(levelname)s - %(message)s'))\n",
    "\n",
    "    # Adding this file handler to the root logger\n",
    "    logging.getLogger('').addHandler(file_handler)\n",
    "\n",
    "    try:\n",
    "        raise ValueError(\"An example exception occurred\")\n",
    "\n",
    "    except Exception as e:\n",
    "        logging.error(f\"Exception occurred: {type(e).__name__} - {e}\")\n",
    "\n",
    "if __name__ == \"__main__\":\n",
    "    main()\n"
   ]
  },
  {
   "cell_type": "code",
   "execution_count": null,
   "id": "600d7a4b",
   "metadata": {},
   "outputs": [],
   "source": []
  }
 ],
 "metadata": {
  "kernelspec": {
   "display_name": "Python 3 (ipykernel)",
   "language": "python",
   "name": "python3"
  },
  "language_info": {
   "codemirror_mode": {
    "name": "ipython",
    "version": 3
   },
   "file_extension": ".py",
   "mimetype": "text/x-python",
   "name": "python",
   "nbconvert_exporter": "python",
   "pygments_lexer": "ipython3",
   "version": "3.11.4"
  }
 },
 "nbformat": 4,
 "nbformat_minor": 5
}
