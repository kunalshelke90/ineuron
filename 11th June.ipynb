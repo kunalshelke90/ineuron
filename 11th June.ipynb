{
 "cells": [
  {
   "cell_type": "markdown",
   "id": "5d228138",
   "metadata": {},
   "source": [
    "# What is a lambda function in Python, and how does it differ from a regular function?\n",
    "\n",
    "A lambda function is a small anonymous function defined with the lambda keyword it can take any number of arguments but only has one expression.\n",
    "\n",
    "Difference from regular function are that lambda function are single-expression function they do not have a name unless assigned to a variable and are used for short simple operations.\n"
   ]
  },
  {
   "cell_type": "code",
   "execution_count": 1,
   "id": "1e6ee71e",
   "metadata": {},
   "outputs": [
    {
     "name": "stdout",
     "output_type": "stream",
     "text": [
      "5\n",
      "5\n"
     ]
    }
   ],
   "source": [
    "# Lambda function\n",
    "add = lambda x, y: x + y\n",
    "print(add(2, 3)) \n",
    "\n",
    "# Regular function\n",
    "def add(x, y):\n",
    "    return x + y\n",
    "\n",
    "print(add(2, 3))  \n"
   ]
  },
  {
   "cell_type": "markdown",
   "id": "6d36c18c",
   "metadata": {},
   "source": [
    "# Can a lambda function in Python have multiple arguments? If yes, how can you define and use them?\n",
    "\n",
    "Yes lambda functions can have multiple arguments"
   ]
  },
  {
   "cell_type": "code",
   "execution_count": 2,
   "id": "854dd61e",
   "metadata": {},
   "outputs": [
    {
     "name": "stdout",
     "output_type": "stream",
     "text": [
      "24\n"
     ]
    }
   ],
   "source": [
    "multiply = lambda x, y, z: x * y * z\n",
    "print(multiply(2, 3, 4))  "
   ]
  },
  {
   "cell_type": "markdown",
   "id": "36ef7951",
   "metadata": {},
   "source": [
    "# How are lambda functions typically used in Python? Provide an example use case.\n",
    "\n",
    "Lambda functions are typically used for short, throw away functions often in conjunction with functions "
   ]
  },
  {
   "cell_type": "code",
   "execution_count": 3,
   "id": "9782dd16",
   "metadata": {},
   "outputs": [
    {
     "name": "stdout",
     "output_type": "stream",
     "text": [
      "[1, 4, 9, 16]\n"
     ]
    }
   ],
   "source": [
    "\n",
    "numbers = [1, 2, 3, 4]\n",
    "squared_numbers = list(map(lambda x: x ** 2, numbers))\n",
    "print(squared_numbers) \n"
   ]
  },
  {
   "cell_type": "markdown",
   "id": "c18f9dc4",
   "metadata": {},
   "source": [
    "# What are the advantages and limitations of lambda functions compared to regular functions in Python?\n",
    "\n",
    "Advantages:\n",
    "\n",
    "Concise and easy to define.\n",
    "\n",
    "Useful for short and simple operations.\n",
    "\n",
    "Limitations:\n",
    "\n",
    "Limited to a single expression.\n",
    "\n",
    "Can be less readable for complex functions."
   ]
  },
  {
   "cell_type": "markdown",
   "id": "ef4762e1",
   "metadata": {},
   "source": [
    "# Are lambda functions in Python able to access variables defined outside of their own scope? Explain with an example.\n",
    "\n",
    "\n",
    "Yes, lambda functions can access variables defined outside their own scope."
   ]
  },
  {
   "cell_type": "code",
   "execution_count": 4,
   "id": "7b2c267d",
   "metadata": {},
   "outputs": [
    {
     "name": "stdout",
     "output_type": "stream",
     "text": [
      "50\n"
     ]
    }
   ],
   "source": [
    "x = 10\n",
    "multiply = lambda y: x * y\n",
    "print(multiply(5))  "
   ]
  },
  {
   "cell_type": "markdown",
   "id": "4cf3f134",
   "metadata": {},
   "source": [
    "# Write a lambda function to calculate the square of a given number.\n",
    "\n"
   ]
  },
  {
   "cell_type": "code",
   "execution_count": 5,
   "id": "3f9601f6",
   "metadata": {},
   "outputs": [
    {
     "name": "stdout",
     "output_type": "stream",
     "text": [
      "16\n"
     ]
    }
   ],
   "source": [
    "square = lambda x: x ** 2\n",
    "print(square(4))  \n"
   ]
  },
  {
   "cell_type": "markdown",
   "id": "2647ed15",
   "metadata": {},
   "source": [
    "# Create a lambda function to find the maximum value in a list of integers.\n"
   ]
  },
  {
   "cell_type": "code",
   "execution_count": 6,
   "id": "fef35faf",
   "metadata": {},
   "outputs": [
    {
     "name": "stdout",
     "output_type": "stream",
     "text": [
      "9\n"
     ]
    }
   ],
   "source": [
    "max_value = lambda lst: max(lst)\n",
    "numbers = [1, 5, 3, 9, 2]\n",
    "print(max_value(numbers))"
   ]
  },
  {
   "cell_type": "markdown",
   "id": "4025c15d",
   "metadata": {},
   "source": [
    "# Implement a lambda function to filter out all the even numbers from a list of integers."
   ]
  },
  {
   "cell_type": "code",
   "execution_count": 7,
   "id": "5389f624",
   "metadata": {},
   "outputs": [
    {
     "name": "stdout",
     "output_type": "stream",
     "text": [
      "[2, 4, 6, 8, 10]\n"
     ]
    }
   ],
   "source": [
    "numbers = [1, 2, 3, 4, 5, 6, 7, 8, 9, 10]\n",
    "even_numbers = list(filter(lambda x: x % 2 == 0, numbers))\n",
    "print(even_numbers)  \n"
   ]
  },
  {
   "cell_type": "markdown",
   "id": "75db7d30",
   "metadata": {},
   "source": [
    "# Write a lambda function to sort a list of strings in ascending order based on the length of each string.\n"
   ]
  },
  {
   "cell_type": "code",
   "execution_count": 8,
   "id": "f31e8986",
   "metadata": {},
   "outputs": [
    {
     "name": "stdout",
     "output_type": "stream",
     "text": [
      "['fig', 'kiwi', 'apple', 'banana']\n"
     ]
    }
   ],
   "source": [
    "strings = [\"apple\", \"fig\", \"banana\", \"kiwi\"]\n",
    "sorted_strings = sorted(strings, key=lambda x: len(x))\n",
    "print(sorted_strings)  \n"
   ]
  },
  {
   "cell_type": "markdown",
   "id": "7f1a3fa2",
   "metadata": {},
   "source": [
    "# Create a lambda function that takes two lists as input and returns a new list containing the common elements between the two lists."
   ]
  },
  {
   "cell_type": "code",
   "execution_count": 10,
   "id": "6ba09942",
   "metadata": {},
   "outputs": [
    {
     "name": "stdout",
     "output_type": "stream",
     "text": [
      "[3, 4]\n"
     ]
    }
   ],
   "source": [
    "common = lambda list1, list2: list(filter(lambda x: x in list2, list1))\n",
    "list1 = [1, 2, 3, 4]\n",
    "list2 = [3, 4, 5, 6]\n",
    "print(common(list1, list2))  \n"
   ]
  },
  {
   "cell_type": "markdown",
   "id": "6895ebf1",
   "metadata": {},
   "source": [
    "# Write a recursive function to calculate the factorial of a given positive integer"
   ]
  },
  {
   "cell_type": "code",
   "execution_count": 11,
   "id": "230f4a50",
   "metadata": {},
   "outputs": [
    {
     "name": "stdout",
     "output_type": "stream",
     "text": [
      "120\n"
     ]
    }
   ],
   "source": [
    "def factorial(n):\n",
    "    if n == 0:\n",
    "        return 1\n",
    "    else:\n",
    "        return n * factorial(n - 1)\n",
    "\n",
    "print(factorial(5))\n"
   ]
  },
  {
   "cell_type": "markdown",
   "id": "6b06f189",
   "metadata": {},
   "source": [
    "# Implement a recursive function to compute the nth Fibonacci number.\n"
   ]
  },
  {
   "cell_type": "code",
   "execution_count": 12,
   "id": "144e986a",
   "metadata": {},
   "outputs": [
    {
     "name": "stdout",
     "output_type": "stream",
     "text": [
      "8\n"
     ]
    }
   ],
   "source": [
    "def fibonacci(n):\n",
    "    if n <= 0:\n",
    "        return 0\n",
    "    elif n == 1:\n",
    "        return 1\n",
    "    else:\n",
    "        return fibonacci(n - 1) + fibonacci(n - 2)\n",
    "\n",
    "print(fibonacci(6))  \n"
   ]
  },
  {
   "cell_type": "markdown",
   "id": "5f7018b3",
   "metadata": {},
   "source": [
    "# Create a recursive function to find the sum of all the elements in a given list"
   ]
  },
  {
   "cell_type": "code",
   "execution_count": 13,
   "id": "72191559",
   "metadata": {},
   "outputs": [
    {
     "name": "stdout",
     "output_type": "stream",
     "text": [
      "15\n"
     ]
    }
   ],
   "source": [
    "def sum(lst):\n",
    "    if not lst:\n",
    "        return 0\n",
    "    else:\n",
    "        return lst[0] + sum(lst[1:])\n",
    "\n",
    "numbers = [1, 2, 3, 4, 5]\n",
    "print(sum(numbers))  \n"
   ]
  },
  {
   "cell_type": "markdown",
   "id": "43f64c44",
   "metadata": {},
   "source": [
    "# Write a recursive function to determine whether a given string is a palindrome.\n"
   ]
  },
  {
   "cell_type": "code",
   "execution_count": 14,
   "id": "914dfab2",
   "metadata": {},
   "outputs": [
    {
     "name": "stdout",
     "output_type": "stream",
     "text": [
      "True\n",
      "False\n"
     ]
    }
   ],
   "source": [
    "def palindrome(s):\n",
    "    if len(s) <= 1:\n",
    "        return True\n",
    "    else:\n",
    "        return s[0] == s[-1] and palindrome(s[1:-1])\n",
    "\n",
    "print(palindrome(\"radar\"))  \n",
    "print(palindrome(\"hello\"))  \n"
   ]
  },
  {
   "cell_type": "markdown",
   "id": "8425f596",
   "metadata": {},
   "source": [
    "#  Implement a recursive function to find the greatest common divisor (GCD) of two positive integers"
   ]
  },
  {
   "cell_type": "code",
   "execution_count": 15,
   "id": "ed3d40d0",
   "metadata": {},
   "outputs": [
    {
     "name": "stdout",
     "output_type": "stream",
     "text": [
      "6\n"
     ]
    }
   ],
   "source": [
    "def gcd(a, b):\n",
    "    if b == 0:\n",
    "        return a\n",
    "    else:\n",
    "        return gcd(b, a % b)\n",
    "\n",
    "print(gcd(48, 18))\n",
    "\n"
   ]
  },
  {
   "cell_type": "code",
   "execution_count": null,
   "id": "03cc8c75",
   "metadata": {},
   "outputs": [],
   "source": []
  }
 ],
 "metadata": {
  "kernelspec": {
   "display_name": "Python 3 (ipykernel)",
   "language": "python",
   "name": "python3"
  },
  "language_info": {
   "codemirror_mode": {
    "name": "ipython",
    "version": 3
   },
   "file_extension": ".py",
   "mimetype": "text/x-python",
   "name": "python",
   "nbconvert_exporter": "python",
   "pygments_lexer": "ipython3",
   "version": "3.11.4"
  }
 },
 "nbformat": 4,
 "nbformat_minor": 5
}
