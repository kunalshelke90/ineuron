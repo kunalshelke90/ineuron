{
 "cells": [
  {
   "cell_type": "markdown",
   "id": "b9fcf4ec",
   "metadata": {},
   "source": [
    "#  What is the role of try and exception block?\n",
    "\n",
    "The try and except blocks are used for handling errors in python. The try block contains the code that might raise an exception and the except block contains the code that executes if an exception occurs."
   ]
  },
  {
   "cell_type": "markdown",
   "id": "97b45544",
   "metadata": {},
   "source": [
    "# What is the syntax for a basic try-except block"
   ]
  },
  {
   "cell_type": "code",
   "execution_count": 3,
   "id": "47a97bc3",
   "metadata": {},
   "outputs": [],
   "source": [
    "try:\n",
    "    pass\n",
    "    # code that may raise an exception\n",
    "except Exception as e :  # exception type\n",
    "    pass\n",
    "    # code that runs if the exception occurs\n"
   ]
  },
  {
   "cell_type": "markdown",
   "id": "17d73189",
   "metadata": {},
   "source": [
    "# What Happens if an Exception Occurs Inside a try Block and There is No Matching except Block?\n",
    "\n",
    "If an exception occurs inside a try block and there is no matching except block to handle that specific exception the exception is propagated up the call stack and if not handled anywhere it will terminate the program and display a traceback."
   ]
  },
  {
   "cell_type": "markdown",
   "id": "8ad8a391",
   "metadata": {},
   "source": [
    "# What is the difference between using a bare except block and specifying a specific exception type?\n",
    "\n",
    "Except catches all exceptions which can be risky as it can catch unexpected errors and make debugging difficult.\n",
    "\n",
    "Specific exception catches only the specified exception type, allowing for more precise error handling."
   ]
  },
  {
   "cell_type": "code",
   "execution_count": 4,
   "id": "d62c6357",
   "metadata": {},
   "outputs": [],
   "source": [
    "try:\n",
    "    pass\n",
    "except ValueError:\n",
    "    pass   \n"
   ]
  },
  {
   "cell_type": "markdown",
   "id": "2875e7dc",
   "metadata": {},
   "source": [
    "# Can you have nested try-except blocks in Python? If yes, then give an example.\n",
    "\n",
    "Yes we can have nested try-except blocks in Python."
   ]
  },
  {
   "cell_type": "code",
   "execution_count": 5,
   "id": "6906380e",
   "metadata": {},
   "outputs": [
    {
     "name": "stdout",
     "output_type": "stream",
     "text": [
      "Inner: Division by zero!\n"
     ]
    }
   ],
   "source": [
    "try:\n",
    "    try:\n",
    "        x = 1 / 0\n",
    "    except ZeroDivisionError:\n",
    "        print(\"Inner: Division by zero!\")\n",
    "except:\n",
    "    print(\"Outer: An error occurred\")\n"
   ]
  },
  {
   "cell_type": "markdown",
   "id": "da5ab1d1",
   "metadata": {},
   "source": [
    "# Can we use multiple exception blocks, if yes then give an example\n",
    "\n",
    "Yes, you can have multiple except blocks to handle different exceptions."
   ]
  },
  {
   "cell_type": "code",
   "execution_count": 6,
   "id": "5da3fae6",
   "metadata": {},
   "outputs": [
    {
     "name": "stdout",
     "output_type": "stream",
     "text": [
      "ValueError: Invalid literal\n"
     ]
    }
   ],
   "source": [
    "try:\n",
    "    x = int(\"abc\")\n",
    "except ValueError:\n",
    "    print(\"ValueError: Invalid literal\")\n",
    "except TypeError:\n",
    "    print(\"TypeError: Invalid type\")\n"
   ]
  },
  {
   "cell_type": "markdown",
   "id": "a44af4be",
   "metadata": {},
   "source": [
    "# Write the reason due to which following errors are raised:\n",
    "\n",
    "EOFError: Raised when the input() function hits an end-of-file condition without reading any data.\n",
    "\n",
    "FloatingPointError: Raised when a floating-point operation fails.\n",
    "\n",
    "IndexError: Raised when a sequence subscript is out of range.\n",
    "\n",
    "MemoryError: Raised when an operation runs out of memory.\n",
    "\n",
    "OverflowError: Raised when the result of an arithmetic operation is too large to be expressed.\n",
    "\n",
    "TabError: Raised when there are inconsistent use of tabs and spaces in indentation.\n",
    "\n",
    "ValueError: Raised when a built-in operation or function receives an argument that has the right type but an inappropriate value.\n"
   ]
  },
  {
   "cell_type": "markdown",
   "id": "e1ba063a",
   "metadata": {},
   "source": [
    "# Write code for the following given scenario and add try-exception block to it.\n"
   ]
  },
  {
   "cell_type": "code",
   "execution_count": null,
   "id": "5a6f5bfe",
   "metadata": {},
   "outputs": [],
   "source": [
    "# Program to Divide Two Numbers\n",
    "\n",
    "try:\n",
    "    a = int(input(\"Enter numerator: \"))\n",
    "    b = int(input(\"Enter denominator: \"))\n",
    "    result = a / b\n",
    "    print(\"Result:\", result)\n",
    "except ZeroDivisionError:\n",
    "    print(\"Error: Cannot divide by zero\")\n",
    "except ValueError:\n",
    "    print(\"Error: Invalid input\")\n"
   ]
  },
  {
   "cell_type": "code",
   "execution_count": null,
   "id": "4b942af7",
   "metadata": {},
   "outputs": [],
   "source": [
    "# Program to Convert a String to an Integer\n",
    "\n",
    "try:\n",
    "    s = input(\"Enter a number: \")\n",
    "    num = int(s)\n",
    "    print(\"Converted number:\", num)\n",
    "except ValueError:\n",
    "    print(\"Error: Invalid input. Please enter a valid integer\")\n"
   ]
  },
  {
   "cell_type": "code",
   "execution_count": null,
   "id": "33074973",
   "metadata": {},
   "outputs": [],
   "source": [
    "#  Program to Access an Element in a List\n",
    "\n",
    "try:\n",
    "    lst = [1, 2, 3]\n",
    "    index = int(input(\"Enter index: \"))\n",
    "    print(\"Element:\", lst[index])\n",
    "except IndexError:\n",
    "    print(\"Error: Index out of range\")\n",
    "except ValueError:\n",
    "    print(\"Error: Invalid input\")\n"
   ]
  },
  {
   "cell_type": "code",
   "execution_count": null,
   "id": "0bad6607",
   "metadata": {},
   "outputs": [],
   "source": [
    "# Program to Handle a Specific Exception\n",
    "\n",
    "try:\n",
    "    x = int(\"abc\")\n",
    "except ValueError:\n",
    "    print(\"Error: Invalid literal for int()\")\n"
   ]
  },
  {
   "cell_type": "code",
   "execution_count": null,
   "id": "f1eb118d",
   "metadata": {},
   "outputs": [],
   "source": [
    "# Program to Handle Any Exception\n",
    "\n",
    "try:\n",
    "    x = int(\"abc\")\n",
    "except Exception as e:\n",
    "    print(f\"An error occurred: {e}\")\n"
   ]
  },
  {
   "cell_type": "code",
   "execution_count": null,
   "id": "ff0a6f4e",
   "metadata": {},
   "outputs": [],
   "source": []
  }
 ],
 "metadata": {
  "kernelspec": {
   "display_name": "Python 3 (ipykernel)",
   "language": "python",
   "name": "python3"
  },
  "language_info": {
   "codemirror_mode": {
    "name": "ipython",
    "version": 3
   },
   "file_extension": ".py",
   "mimetype": "text/x-python",
   "name": "python",
   "nbconvert_exporter": "python",
   "pygments_lexer": "ipython3",
   "version": "3.11.4"
  }
 },
 "nbformat": 4,
 "nbformat_minor": 5
}
