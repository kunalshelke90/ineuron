{
 "cells": [
  {
   "cell_type": "markdown",
   "id": "791713d1",
   "metadata": {},
   "source": [
    "# What is the primary goal of Object-Oriented Programming (OOP)?\n",
    "\n",
    "The primary goal of Object-Oriented Programming is to model real-world entities into code by making an object . This approach aims to improve code reusability, maintainability, and scalability by encapsulating data and behavior into objects that interact with each other. Overall the goal is to create code that is easier to understand, maintain, and extend over time.\n"
   ]
  },
  {
   "cell_type": "markdown",
   "id": "3ad6a3ac",
   "metadata": {},
   "source": [
    "# What is an object in Python?\n",
    "\n",
    "An object is called an instance of a class \n",
    "\n",
    "Suppose Car is a class then we can create objects like Car1, Car2, etc from the class.\n"
   ]
  },
  {
   "cell_type": "code",
   "execution_count": 1,
   "id": "002a6ccb",
   "metadata": {},
   "outputs": [
    {
     "ename": "NameError",
     "evalue": "name 'House' is not defined",
     "output_type": "error",
     "traceback": [
      "\u001b[1;31m---------------------------------------------------------------------------\u001b[0m",
      "\u001b[1;31mNameError\u001b[0m                                 Traceback (most recent call last)",
      "Cell \u001b[1;32mIn[1], line 11\u001b[0m\n\u001b[0;32m      8\u001b[0m Car2\u001b[38;5;241m=\u001b[39mCar()\n\u001b[0;32m     10\u001b[0m \u001b[38;5;66;03m# create objects of class of below code\u001b[39;00m\n\u001b[1;32m---> 11\u001b[0m House1 \u001b[38;5;241m=\u001b[39m House()\n",
      "\u001b[1;31mNameError\u001b[0m: name 'House' is not defined"
     ]
    }
   ],
   "source": [
    "#create class\n",
    "class Car:\n",
    "    pass\n",
    "\n",
    "#create object\n",
    "\n",
    "Car1=Car()\n",
    "Car2=Car()\n"
   ]
  },
  {
   "cell_type": "markdown",
   "id": "f6832b84",
   "metadata": {},
   "source": [
    "#  What is a class in Python?\n",
    "\n",
    "A class is considered a blueprint of objects.\n",
    "\n",
    "We can think of the class as a sketch of a house it contains all the details about the floors, doors, windows, etc based on these descriptions we build the house the house is the object.Since many houses can be made from the same description, we can create many objects from a class."
   ]
  },
  {
   "cell_type": "code",
   "execution_count": null,
   "id": "d605c62f",
   "metadata": {},
   "outputs": [],
   "source": [
    "# create class\n",
    "class House:\n",
    "    floor = \"\"\n",
    "    rooms = 0\n",
    "\n",
    "# create objects of class\n",
    "House1 = House() "
   ]
  },
  {
   "cell_type": "markdown",
   "id": "b6e02300",
   "metadata": {},
   "source": [
    "# 4. What are attributes and methods in a class?\n",
    "\n",
    "Attributes are variables that define a class's characteristics, while Methods are functions that perform actions on those attributes."
   ]
  },
  {
   "cell_type": "code",
   "execution_count": 2,
   "id": "ff0ca4bd",
   "metadata": {},
   "outputs": [
    {
     "data": {
      "text/plain": [
       "'In this example, start_engine() is a method of the Car class. \\nIt performs an action on the Car object, such as starting its engine. \\nThis method can access the attributes of the Car object (self.color, self.make, self.model) to provide contextual information about the action being performed.'"
      ]
     },
     "execution_count": 2,
     "metadata": {},
     "output_type": "execute_result"
    }
   ],
   "source": [
    "class Car:\n",
    "    def __init__(self, color, make, model, year):\n",
    "        self.color = color\n",
    "        self.make = make\n",
    "        self.model = model\n",
    "        self.year = year\n",
    "        \n",
    "    def start_engine(self):\n",
    "        print(\"The engine of the\", self.color, self.make, self.model, \"has started.\")\n",
    "        \n",
    "        \n",
    "\"\"\"In this example, start_engine() is a method of the Car class. \n",
    "It performs an action on the Car object such as starting its engine. \n",
    "This method can access the attributes of the Car object (self.color, self.make, self.model) to provide contextual information about the action being performed.\"\"\""
   ]
  },
  {
   "cell_type": "markdown",
   "id": "bf58edee",
   "metadata": {},
   "source": [
    "# What is the difference between class variables and instance variables in Python?\n",
    "\n",
    "Class variable is shared with all instances of the class and it is defined inside the class but outside of the method .\n",
    "It is good to define when it has common some information and if it is changed then entire instance will also be affected.\n"
   ]
  },
  {
   "cell_type": "code",
   "execution_count": 3,
   "id": "aa0d9b88",
   "metadata": {},
   "outputs": [
    {
     "name": "stdout",
     "output_type": "stream",
     "text": [
      "4\n",
      "red\n",
      "blue\n"
     ]
    }
   ],
   "source": [
    "class Car:\n",
    "    num_wheels = 4  # Class variable\n",
    "\n",
    "    def __init__(self, color):\n",
    "        self.color = color  # Instance variable\n",
    "\n",
    "# Accessing class variable\n",
    "print(Car.num_wheels)  # Output: 4\n",
    "\n",
    "# Creating instances\n",
    "car1 = Car(\"red\")\n",
    "car2 = Car(\"blue\")\n",
    "\n",
    "# Accessing instance variables\n",
    "print(car1.color)  \n",
    "print(car2.color)  \n"
   ]
  },
  {
   "cell_type": "markdown",
   "id": "f20570f8",
   "metadata": {},
   "source": [
    "Instance variables are specific to each instance of a class and they are defined inside the class methods, typically within the __int()__ method. Instance variables hold data unique to each instance of the class.\n"
   ]
  },
  {
   "cell_type": "code",
   "execution_count": 4,
   "id": "85337a9e",
   "metadata": {},
   "outputs": [
    {
     "name": "stdout",
     "output_type": "stream",
     "text": [
      "red\n",
      "blue\n"
     ]
    }
   ],
   "source": [
    "class Car:\n",
    "    def __init__(self, color):\n",
    "        self.color = color  # Instance variable\n",
    "\n",
    "# Creating instances\n",
    "car1 = Car(\"red\")\n",
    "car2 = Car(\"blue\")\n",
    "\n",
    "# Accessing instance variables\n",
    "print(car1.color)  \n",
    "print(car2.color) \n"
   ]
  },
  {
   "cell_type": "markdown",
   "id": "d75ac7e7",
   "metadata": {},
   "source": [
    "# What is the purpose of the self parameter in Python class methods?\n",
    "\n",
    "Inside class method self allows you to access and manipulate instance variables (attributes) of the object to which the method belongs and it ensures that the correct instance's data is accessed or modified. Another is used to call other methods of the same class within class methods it enables the instance to call its own methods and perform actions specific to that instance."
   ]
  },
  {
   "cell_type": "code",
   "execution_count": 5,
   "id": "b0c0fb54",
   "metadata": {},
   "outputs": [
    {
     "name": "stdout",
     "output_type": "stream",
     "text": [
      "This is a red Toyota Corolla\n"
     ]
    }
   ],
   "source": [
    "class Car:\n",
    "    def __init__(self, color, make, model):\n",
    "        self.color = color\n",
    "        self.make = make\n",
    "        self.model = model\n",
    "\n",
    "    def display_info(self):\n",
    "        print(\"This is a\", self.color, self.make, self.model)\n",
    "\n",
    "car1 = Car(\"red\", \"Toyota\", \"Corolla\")\n",
    "car1.display_info() \n"
   ]
  },
  {
   "cell_type": "markdown",
   "id": "a8fd6495",
   "metadata": {},
   "source": [
    "# For a library management system, you have to design the \"Book\" class with OOP principles in mind. \n",
    "\n",
    "# The “Book” class will have following attributes:\n",
    "\n",
    "a. title: Represents the title of the book.\n",
    "\n",
    "b. author: Represents the author(s) of the book.\n",
    "\n",
    "c. isbn: Represents the ISBN (International Standard Book Number) of the book.\n",
    "\n",
    "d. publication_year: Represents the year of publication of the book.\n",
    "\n",
    "e. available_copies: Represents the number of copies available for checkout.\n",
    "\n",
    "# The class will also include the following methods:\n",
    "\n",
    "a. check_out(self): Decrements the available copies by one if there are copies\n",
    "available for checkout.\n",
    "\n",
    "b. return_book(self): Increments the available copies by one when a book is\n",
    "returned.\n",
    "\n",
    "c. display_book_info(self): Displays the information about the book, including its\n",
    "attributes and the number of available copies."
   ]
  },
  {
   "cell_type": "code",
   "execution_count": 6,
   "id": "10c30393",
   "metadata": {},
   "outputs": [],
   "source": [
    "class Book:\n",
    "    def __init__(self, title, author, isbn, publication_year, available_copies):\n",
    "        self.title = title\n",
    "        self.author = author\n",
    "        self.isbn = isbn\n",
    "        self.publication_year = publication_year\n",
    "        self.available_copies = available_copies\n",
    "\n",
    "    def check_out(self):\n",
    "        if self.available_copies > 0:\n",
    "            self.available_copies -= 1\n",
    "            print(\"Book checked out successfully!\")\n",
    "        else:\n",
    "            print(\"Sorry, no copies available for checkout.\")\n",
    "\n",
    "    def return_book(self):\n",
    "        self.available_copies += 1\n",
    "        print(\"Book returned successfully.\")\n",
    "\n",
    "    def display_book_info(self):\n",
    "        print(\"Title:\", self.title)\n",
    "        print(\"Author:\", self.author)\n",
    "        print(\"ISBN:\", self.isbn)\n",
    "        print(\"Publication Year:\", self.publication_year)\n",
    "        print(\"Available Copies:\", self.available_copies)\n",
    "\n"
   ]
  },
  {
   "cell_type": "markdown",
   "id": "640b1dd7",
   "metadata": {},
   "source": [
    "# For a ticket booking system, you have to design the \"Ticket\" class with OOP principles in mind. The “Ticket” class should have the following attributes:\n",
    "\n",
    "a. ticket_id: Represents the unique identifier for the ticket.\n",
    "\n",
    "b. event_name: Represents the name of the event.\n",
    "\n",
    "c. event_date: Represents the date of the event.\n",
    "\n",
    "d. venue: Represents the venue of the event.\n",
    "\n",
    "e. seat_number: Represents the seat number associated with the ticket.\n",
    "\n",
    "f. price: Represents the price of the ticket.\n",
    "\n",
    "g. is_reserved: Represents the reservation status of the ticket.\n",
    "\n",
    "# The class also includes the following methods:\n",
    "\n",
    "a. reserve_ticket(self): Marks the ticket as reserved if it is not already reserved.\n",
    "\n",
    "b. cancel_reservation(self): Cancels the reservation of the ticket if it is already reserved.\n",
    "\n",
    "c. display_ticket_info(self): Displays the information about the ticket, including its attributes and reservation status."
   ]
  },
  {
   "cell_type": "code",
   "execution_count": 7,
   "id": "89378f19",
   "metadata": {},
   "outputs": [],
   "source": [
    "class Ticket:\n",
    "    def __init__(self, ticket_id, event_name, event_date, venue, seat_number, price, is_reserved=False):\n",
    "        self.ticket_id = ticket_id\n",
    "        self.event_name = event_name\n",
    "        self.event_date = event_date\n",
    "        self.venue = venue\n",
    "        self.seat_number = seat_number\n",
    "        self.price = price\n",
    "        self.is_reserved = is_reserved\n",
    "\n",
    "    def reserve_ticket(self):\n",
    "        if not self.is_reserved:\n",
    "            self.is_reserved = True\n",
    "            print(\"Ticket reserved successfully!\")\n",
    "        else:\n",
    "            print(\"Ticket is already reserved.\")\n",
    "\n",
    "    def cancel_reservation(self):\n",
    "        if self.is_reserved:\n",
    "            self.is_reserved = False\n",
    "            print(\"Reservation cancelled successfully.\")\n",
    "        else:\n",
    "            print(\"Ticket is not reserved.\")\n",
    "\n",
    "    def display_ticket_info(self):\n",
    "        print(\"Ticket ID:\", self.ticket_id)\n",
    "        print(\"Event Name:\", self.event_name)\n",
    "        print(\"Event Date:\", self.event_date)\n",
    "        print(\"Venue:\", self.venue)\n",
    "        print(\"Seat Number:\", self.seat_number)\n",
    "        print(\"Price:\", self.price)\n",
    "        print(\"Reservation Status:\", \"Reserved\" if self.is_reserved else \"Not Reserved\")\n",
    "\n"
   ]
  },
  {
   "cell_type": "markdown",
   "id": "08d7a4b8",
   "metadata": {},
   "source": [
    "# You are creating a shopping cart for an e-commerce website. Using OOP to model the \"ShoppingCart\" functionality the class should contain following attributes and methods:\n",
    "\n",
    "a. items: Represents the list of items in the shopping cart.\n",
    "\n",
    "# The class also includes the following methods:\n",
    "\n",
    "a. add_item(self, item): Adds an item to the shopping cart by appending it to the list of items.\n",
    "\n",
    "b. remove_item(self, item): Removes an item from the shopping cart if it exists in the list.\n",
    "\n",
    "c. view_cart(self): Displays the items currently present in the shopping cart.\n",
    "\n",
    "d. clear_cart(self): Clears all items from the shopping cart by reassigning an empty list to the items attribute."
   ]
  },
  {
   "cell_type": "code",
   "execution_count": 8,
   "id": "5fc20e1a",
   "metadata": {},
   "outputs": [],
   "source": [
    "class ShoppingCart:\n",
    "    def __init__(self):\n",
    "        self.items = []\n",
    "\n",
    "    def add_item(self, item):\n",
    "        self.items.append(item)\n",
    "        print(f\"{item} added to the shopping cart.\")\n",
    "\n",
    "    def remove_item(self, item):\n",
    "        if item in self.items:\n",
    "            self.items.remove(item)\n",
    "            print(f\"{item} removed from the shopping cart.\")\n",
    "        else:\n",
    "            print(f\"{item} is not in the shopping cart.\")\n",
    "\n",
    "    def view_cart(self):\n",
    "        if self.items:\n",
    "            print(\"Items in the shopping cart:\")\n",
    "            for item in self.items:\n",
    "                print(\"-\", item)\n",
    "        else:\n",
    "            print(\"Shopping cart is empty.\")\n",
    "\n",
    "    def clear_cart(self):\n",
    "        self.items = []\n",
    "        print(\"Shopping cart cleared.\")\n",
    "\n"
   ]
  },
  {
   "cell_type": "markdown",
   "id": "441e923d",
   "metadata": {},
   "source": [
    "#  Imagine a school management system. You have to design the \"Student\" class using OOP concepts.The “Student” class has the following attributes:\n",
    "\n",
    "a. name: Represents the name of the student.\n",
    "\n",
    "b. age: Represents the age of the student.\n",
    "\n",
    "c. grade: Represents the grade or class of the student.\n",
    "\n",
    "d. student_id: Represents the unique identifier for the student.\n",
    "\n",
    "e. attendance: Represents the attendance record of the student.\n",
    "\n",
    "# The class should also include the following methods:\n",
    "\n",
    "a. update_attendance(self, date, status): Updates the attendance record of the student for a given date with the provided status (e.g., present or absent).\n",
    "\n",
    "b. get_attendance(self): Returns the attendance record of the student.\n",
    "\n",
    "c. get_average_attendance(self): Calculates and returns the average attendance percentage of the student based on their attendance record."
   ]
  },
  {
   "cell_type": "code",
   "execution_count": 9,
   "id": "7d91facc",
   "metadata": {},
   "outputs": [
    {
     "name": "stdout",
     "output_type": "stream",
     "text": [
      "Attendance record: {'2023-06-01': 'present', '2024-06-02': 'absent', '2024-06-03': 'present'}\n",
      "Average attendance: 66.66666666666666 %\n"
     ]
    }
   ],
   "source": [
    "class Student:\n",
    "    def __init__(self, name, age, grade, student_id):\n",
    "        self.name = name\n",
    "        self.age = age\n",
    "        self.grade = grade\n",
    "        self.student_id = student_id\n",
    "        self.attendance = {}\n",
    "\n",
    "    def update_attendance(self, date, status):\n",
    "        self.attendance[date] = status\n",
    "\n",
    "    def get_attendance(self):\n",
    "        return self.attendance\n",
    "\n",
    "    def get_average_attendance(self):\n",
    "        total_days = len(self.attendance)\n",
    "        if total_days == 0:\n",
    "            return 0.0\n",
    "        present_days = sum(status == 'present' for status in self.attendance.values())\n",
    "        average_attendance = (present_days / total_days) * 100\n",
    "        return average_attendance\n",
    "\n",
    "# Example usage:\n",
    "student1 = Student(\"John Doe\", 15, \"10th\", \"S12345\")\n",
    "\n",
    "# Update attendance\n",
    "student1.update_attendance(\"2023-06-01\", \"present\")\n",
    "student1.update_attendance(\"2024-06-02\", \"absent\")\n",
    "student1.update_attendance(\"2024-06-03\", \"present\")\n",
    "\n",
    "# Get attendance\n",
    "print(\"Attendance record:\", student1.get_attendance())\n",
    "\n",
    "# Get average attendance\n",
    "print(\"Average attendance:\", student1.get_average_attendance(), \"%\")\n"
   ]
  }
 ],
 "metadata": {
  "kernelspec": {
   "display_name": "Python 3 (ipykernel)",
   "language": "python",
   "name": "python3"
  },
  "language_info": {
   "codemirror_mode": {
    "name": "ipython",
    "version": 3
   },
   "file_extension": ".py",
   "mimetype": "text/x-python",
   "name": "python",
   "nbconvert_exporter": "python",
   "pygments_lexer": "ipython3",
   "version": "3.11.4"
  }
 },
 "nbformat": 4,
 "nbformat_minor": 5
}
