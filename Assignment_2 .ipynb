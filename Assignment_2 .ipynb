{
 "cells": [
  {
   "cell_type": "markdown",
   "id": "e7a99c73",
   "metadata": {},
   "source": [
    "# What are the two values of the Boolean data type? How do you write them?\n",
    "\n",
    "\n",
    "The two values of the Boolean data type are True and False and they are written exactly as shown with the first letter capitalized."
   ]
  },
  {
   "cell_type": "markdown",
   "id": "3f83536c",
   "metadata": {},
   "source": [
    "#  What are the three different types of Boolean operators?\n",
    "\n",
    "\n",
    "The three different types of Boolean operators are AND, OR and NOT."
   ]
  },
  {
   "cell_type": "markdown",
   "id": "8e63d99c",
   "metadata": {},
   "source": [
    "# Make a list of each Boolean operator's truth tables (i.e. every possible combination of Boolean values for the operator and what it evaluate ).\n",
    "\n",
    "\n",
    "Truth tables for Boolean operators:\n",
    "\n",
    "AND:-\n",
    "\n",
    "True AND True = True\n",
    "True AND False = False\n",
    "False AND True = False\n",
    "False AND False = False\n",
    "\n",
    "OR:-\n",
    "\n",
    "True OR True = True\n",
    "True OR False = True\n",
    "False OR True = True\n",
    "False OR False = False\n",
    "\n",
    "NOT:-\n",
    "\n",
    "NOT True = False\n",
    "NOT False = True"
   ]
  },
  {
   "cell_type": "markdown",
   "id": "da661d30",
   "metadata": {},
   "source": [
    "# What are the values of the following expressions?\n",
    "\n",
    "(5 > 4) and (3 == 5)\n",
    "\n",
    "False\n",
    "\n",
    "not (5 > 4)\n",
    "\n",
    "False\n",
    "\n",
    "(5 > 4) or (3 == 5)\n",
    "\n",
    "True\n",
    "\n",
    "not ((5 > 4) or (3 == 5))\n",
    "\n",
    "False\n",
    "\n",
    "(True and True) and (True == False)\n",
    "\n",
    "False\n",
    "\n",
    "(not False) or (not True)\n",
    "\n",
    "True\n"
   ]
  },
  {
   "cell_type": "markdown",
   "id": "79377d66",
   "metadata": {},
   "source": [
    "# What are the six comparison operators?\n",
    "\n",
    "\n",
    "Greater than (>)\n",
    "\n",
    "Less than (<)\n",
    "\n",
    "Greater than or equal to (>=)\n",
    "\n",
    "Less than or equal to (<=)\n",
    "\n",
    "Equal to (==)\n",
    "\n",
    "Not equal to (!=)\n"
   ]
  },
  {
   "cell_type": "markdown",
   "id": "eb0360e5",
   "metadata": {},
   "source": [
    "# How do you tell the difference between the equal to and assignment operators?Describe a condition and when you would use one.\n",
    "\n",
    "\n",
    "The equal to operator (==) is used to compare two values to see if they are equal. The assignment operator (=) is used to assign a value to a variable. For example if you want to check if a variable x is equal to 10 you would use \"x == 10\". If you want to assign the value 10 to a variable y, you would use \"y = 10\".\n",
    "\n"
   ]
  },
  {
   "cell_type": "markdown",
   "id": "45a5f741",
   "metadata": {},
   "source": [
    "# Identify the three blocks in this code:\n",
    "spam = 0\n",
    "\n",
    "if spam == 10:\n",
    "\n",
    "print('eggs')\n",
    "\n",
    "if spam > 5:\n",
    "\n",
    "print('bacon')\n",
    "\n",
    "else:\n",
    "\n",
    "print('ham')\n",
    "\n",
    "print('spam')\n",
    "\n",
    "print('spam')\n",
    "\n",
    "\n",
    "\n",
    "Block 1: if spam == 10:\n",
    "\n",
    "Block 2: if spam > 5:\n",
    "\n",
    "Block 3: else:\n"
   ]
  },
  {
   "cell_type": "markdown",
   "id": "5f81349d",
   "metadata": {},
   "source": [
    "# Write code that prints Hello if 1 is stored in spam, prints Howdy if 2 is stored in spam, and prints Greetings! if anything else is stored in spam.\n"
   ]
  },
  {
   "cell_type": "code",
   "execution_count": 1,
   "id": "679ae79a",
   "metadata": {},
   "outputs": [
    {
     "name": "stdout",
     "output_type": "stream",
     "text": [
      "Howdy\n"
     ]
    }
   ],
   "source": [
    "spam = 2\n",
    "if spam == 1:\n",
    "    print('Hello')\n",
    "elif spam == 2:\n",
    "    print('Howdy')\n",
    "else:\n",
    "    print('Greetings!')\n"
   ]
  },
  {
   "cell_type": "markdown",
   "id": "ab78cfaf",
   "metadata": {},
   "source": [
    "# If your programme is stuck in an endless loop, what keys you’ll press?\n",
    "\n",
    "\n",
    "Ctrl + C"
   ]
  },
  {
   "cell_type": "markdown",
   "id": "b7dab309",
   "metadata": {},
   "source": [
    "#  How can you tell the difference between break and continue?\n",
    "\n",
    "\n",
    "The break statement is used to exit the current loop prematurely while the continue statement is used to skip the current iteration of the loop and continue with the next iteration."
   ]
  },
  {
   "cell_type": "markdown",
   "id": "0cf32be9",
   "metadata": {},
   "source": [
    "# In a for loop, what is the difference between range(10), range(0, 10), and range(0, 10, 1)?\n",
    "\n",
    "In a for loop, range(10), range(0, 10), and range(0, 10, 1) all generate the same sequence of numbers from 0 to 9 they differ only in how they are written but their functionality is the same."
   ]
  },
  {
   "cell_type": "markdown",
   "id": "ac2bfb06",
   "metadata": {},
   "source": [
    "#  Write a short program that prints the numbers 1 to 10 using a for loop. Then write an equivalent program that prints the numbers 1 to 10 using a while loop.\n"
   ]
  },
  {
   "cell_type": "code",
   "execution_count": 2,
   "id": "2643dd34",
   "metadata": {},
   "outputs": [
    {
     "name": "stdout",
     "output_type": "stream",
     "text": [
      "1\n",
      "2\n",
      "3\n",
      "4\n",
      "5\n",
      "6\n",
      "7\n",
      "8\n",
      "9\n",
      "10\n"
     ]
    }
   ],
   "source": [
    "for i in range(1, 11):\n",
    "    print(i)\n"
   ]
  },
  {
   "cell_type": "code",
   "execution_count": 3,
   "id": "9ea79df3",
   "metadata": {},
   "outputs": [
    {
     "name": "stdout",
     "output_type": "stream",
     "text": [
      "1\n",
      "2\n",
      "3\n",
      "4\n",
      "5\n",
      "6\n",
      "7\n",
      "8\n",
      "9\n",
      "10\n"
     ]
    }
   ],
   "source": [
    "i = 1\n",
    "while i <= 10:\n",
    "    print(i)\n",
    "    i += 1\n"
   ]
  },
  {
   "cell_type": "markdown",
   "id": "1cd511c2",
   "metadata": {},
   "source": [
    "# If you had a function named bacon() inside a module named spam, how would you call it after importing spam?\n"
   ]
  },
  {
   "cell_type": "code",
   "execution_count": 4,
   "id": "ff64be1f",
   "metadata": {},
   "outputs": [
    {
     "ename": "ModuleNotFoundError",
     "evalue": "No module named 'spam'",
     "output_type": "error",
     "traceback": [
      "\u001b[1;31m---------------------------------------------------------------------------\u001b[0m",
      "\u001b[1;31mModuleNotFoundError\u001b[0m                       Traceback (most recent call last)",
      "Cell \u001b[1;32mIn[4], line 1\u001b[0m\n\u001b[1;32m----> 1\u001b[0m \u001b[38;5;28;01mimport\u001b[39;00m \u001b[38;5;21;01mspam\u001b[39;00m\n\u001b[0;32m      2\u001b[0m spam\u001b[38;5;241m.\u001b[39mbacon()\n",
      "\u001b[1;31mModuleNotFoundError\u001b[0m: No module named 'spam'"
     ]
    }
   ],
   "source": [
    "import spam\n",
    "spam.bacon()\n"
   ]
  },
  {
   "cell_type": "code",
   "execution_count": null,
   "id": "550bcab5",
   "metadata": {},
   "outputs": [],
   "source": []
  }
 ],
 "metadata": {
  "kernelspec": {
   "display_name": "Python 3 (ipykernel)",
   "language": "python",
   "name": "python3"
  },
  "language_info": {
   "codemirror_mode": {
    "name": "ipython",
    "version": 3
   },
   "file_extension": ".py",
   "mimetype": "text/x-python",
   "name": "python",
   "nbconvert_exporter": "python",
   "pygments_lexer": "ipython3",
   "version": "3.11.4"
  }
 },
 "nbformat": 4,
 "nbformat_minor": 5
}
