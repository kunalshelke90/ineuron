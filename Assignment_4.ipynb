{
 "cells": [
  {
   "cell_type": "markdown",
   "id": "b80cdaa3",
   "metadata": {},
   "source": [
    "# What exactly is []?\n",
    "\n",
    "[ ] represents an empty list in Python."
   ]
  },
  {
   "cell_type": "markdown",
   "id": "14e93af0",
   "metadata": {},
   "source": [
    "# In a list of values stored in a variable called spam, how would you assign the value 'hello' as the third value? (Assume [2, 4, 6, 8, 10] are in spam.) \n",
    "\n",
    "Let's pretend the spam includes the list ['a', 'b', 'c', 'd'] for the next three queries.\n",
    "\n",
    "\n",
    "To assign 'hello' as the third value in the list stored in the variable spam we can use the following code: \n",
    "\n",
    "spam[2] = 'hello'"
   ]
  },
  {
   "cell_type": "markdown",
   "id": "cace7b6d",
   "metadata": {},
   "source": [
    "# What is the value of spam[int(int('3' * 2) / 11)]?\n",
    "\n",
    "The value of spam[int(int('3' * 2) / 11)] is 'd'."
   ]
  },
  {
   "cell_type": "markdown",
   "id": "4d0e2a18",
   "metadata": {},
   "source": [
    "# What is the value of spam[-1]?\n",
    "\n",
    "The value of spam[-1] is 'd'."
   ]
  },
  {
   "cell_type": "markdown",
   "id": "8ed02e7e",
   "metadata": {},
   "source": [
    "# What is the value of spam[:2]?\n",
    "\n",
    "The value of spam[:2] is ['a', 'b']"
   ]
  },
  {
   "cell_type": "markdown",
   "id": "5ddeb873",
   "metadata": {},
   "source": [
    "# What is the value of bacon.index('cat')?\n",
    "\n",
    "\n",
    "The value of bacon.index('cat') is 1."
   ]
  },
  {
   "cell_type": "markdown",
   "id": "dfa3eff4",
   "metadata": {},
   "source": [
    "# How does bacon.append(99) change the look of the list value in bacon?\n",
    "\n",
    "\n",
    "The list value in bacon changes to [3.14, 'cat,' 11, 'cat,' True, 99] after the bacon.append(99) operation."
   ]
  },
  {
   "cell_type": "markdown",
   "id": "2829b7ca",
   "metadata": {},
   "source": [
    "# How does bacon.remove('cat') change the look of the list in bacon?\n",
    "\n",
    "\n",
    "The list value in bacon changes to [3.14, 11, 'cat,' True] after the bacon.remove('cat') operation removing the first occurrence of 'cat' from the list.\n",
    "\n"
   ]
  },
  {
   "cell_type": "markdown",
   "id": "3476bc9e",
   "metadata": {},
   "source": [
    "# What are the list concatenation and list replication operators?\n",
    "\n",
    "The list concatenation operator is '+' which combines two lists into a single list. The list replication operator is '*', which replicates a list a specified number of times."
   ]
  },
  {
   "cell_type": "markdown",
   "id": "35d24ba1",
   "metadata": {},
   "source": [
    "# What is difference between the list methods append() and insert()?\n",
    "\n",
    "The append() method adds an item to the end of a list while the insert() method inserts an item at a specified position in the list."
   ]
  },
  {
   "cell_type": "markdown",
   "id": "112b1501",
   "metadata": {},
   "source": [
    "# What are the two methods for removing items from a list?\n",
    "\n",
    "The two methods for removing items from a list are remove() and pop(). \n",
    "\n",
    "The remove() method removes the first occurrence of a specified value while the pop() method removes an item at a specified index.\n",
    "\n",
    "\n"
   ]
  },
  {
   "cell_type": "markdown",
   "id": "cafdaaa7",
   "metadata": {},
   "source": [
    "# Describe how list values and string values are identical.\n",
    "\n",
    "List values and string values are identical in that they are both sequences of elements they support indexing and slicing and they can be concatenated and replicated using operators.\n",
    "\n"
   ]
  },
  {
   "cell_type": "markdown",
   "id": "9aff2cce",
   "metadata": {},
   "source": [
    "# What's the difference between tuples and lists?\n",
    "\n",
    "Tuples and lists differ in mutability. Lists are mutable meaning their elements can be modified after creation while tuples are immutable meaning their elements cannot be changed after creation."
   ]
  },
  {
   "cell_type": "markdown",
   "id": "d1cf882b",
   "metadata": {},
   "source": [
    "# How do you type a tuple value that only contains the integer 42?\n",
    "\n",
    "\n",
    "To create a tuple value that only contains the integer 42 we can use the following syntax: (42,)\n"
   ]
  },
  {
   "cell_type": "markdown",
   "id": "e33f8fd2",
   "metadata": {},
   "source": [
    "# How do you get a list value's tuple form? How do you get a tuple value's list form?\n",
    "\n",
    "To convert a list value to its tuple form we can use the tuple() function like this: tuple(my_list). \n",
    "\n",
    "To convert a tuple value to its list form we can use the list() function like this: list(my_tuple).\n",
    "\n"
   ]
  },
  {
   "cell_type": "markdown",
   "id": "067e8f0d",
   "metadata": {},
   "source": [
    "# Variables that \"contain\" list values are not necessarily lists themselves. Instead, what do they contain?\n",
    "\n",
    "\n",
    "Variables that contain list values actually contain references to the list objects in memory not the lists themselves."
   ]
  },
  {
   "cell_type": "markdown",
   "id": "da215438",
   "metadata": {},
   "source": [
    "#  How do you distinguish between copy.copy() and copy.deepcopy()?\n",
    "\n",
    "The copy.copy() function creates a shallow copy of a list meaning it copies the lists elements but not the nested objects. \n",
    "\n",
    "The copy.deepcopy() function creates a deep copy of a list including copies of all nested objects, recursively.\n",
    "\n"
   ]
  },
  {
   "cell_type": "code",
   "execution_count": null,
   "id": "21f46fcc",
   "metadata": {},
   "outputs": [],
   "source": []
  }
 ],
 "metadata": {
  "kernelspec": {
   "display_name": "Python 3 (ipykernel)",
   "language": "python",
   "name": "python3"
  },
  "language_info": {
   "codemirror_mode": {
    "name": "ipython",
    "version": 3
   },
   "file_extension": ".py",
   "mimetype": "text/x-python",
   "name": "python",
   "nbconvert_exporter": "python",
   "pygments_lexer": "ipython3",
   "version": "3.11.4"
  }
 },
 "nbformat": 4,
 "nbformat_minor": 5
}
