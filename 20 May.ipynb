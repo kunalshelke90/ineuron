{
 "cells": [
  {
   "cell_type": "markdown",
   "id": "a3d218b9",
   "metadata": {},
   "source": [
    "#  What are keywords in python? Using the keyword library, print all the python keywords.\n",
    "\n",
    "keywords are reserved words that have special meanings and are used to define the syntax and structure of the language these keywords cannot be used as identifiers such as variable names or function names because they are reserved for specific purposes within the language."
   ]
  },
  {
   "cell_type": "code",
   "execution_count": 1,
   "id": "145cc829",
   "metadata": {},
   "outputs": [
    {
     "name": "stdout",
     "output_type": "stream",
     "text": [
      "Python Keywords:\n",
      "False\n",
      "None\n",
      "True\n",
      "and\n",
      "as\n",
      "assert\n",
      "async\n",
      "await\n",
      "break\n",
      "class\n",
      "continue\n",
      "def\n",
      "del\n",
      "elif\n",
      "else\n",
      "except\n",
      "finally\n",
      "for\n",
      "from\n",
      "global\n",
      "if\n",
      "import\n",
      "in\n",
      "is\n",
      "lambda\n",
      "nonlocal\n",
      "not\n",
      "or\n",
      "pass\n",
      "raise\n",
      "return\n",
      "try\n",
      "while\n",
      "with\n",
      "yield\n"
     ]
    }
   ],
   "source": [
    "import keyword\n",
    "\n",
    "all_keywords = keyword.kwlist\n",
    "print(\"Python Keywords:\")\n",
    "for keyword in all_keywords:\n",
    "    print(keyword)\n"
   ]
  },
  {
   "cell_type": "markdown",
   "id": "5a3b4e4c",
   "metadata": {},
   "source": [
    "#  What are the rules to create variables in python? \n",
    "\n",
    "Rules we need to follow are :-\n",
    "\n",
    "\n",
    "Variable Name Syntax:-\n",
    "\n",
    "Variable names can contain letters (a-z, A-Z), digits (0-9), and underscores (_).\n",
    "\n",
    "Variable names must start with a letter (a-z, A-Z) or underscore (_).\n",
    "\n",
    "Variable names cannot start with a digit (0-9).\n",
    "\n",
    "\n",
    "Case Sensitivity:-\n",
    "\n",
    "Python is case-sensitive, so myVar, MyVar and myvar are all different variables.\n",
    "\n",
    "\n",
    "Reserved Keywords:-\n",
    "\n",
    "You cannot use reserved keywords as variable names these keywords have special meanings and are reserved for specific purposes in Python example if, else, while, for, def, class, etc.\n",
    "\n",
    "\n",
    "Meaningful Names:-\n",
    "\n",
    "Use meaningful and descriptive names for variables to enhance code readability and maintainability.\n",
    "\n",
    "Avoid single-character names or ambiguous abbreviations that may confuse readers.\n",
    "\n",
    "\n",
    "Convention:-\n",
    "\n",
    "Follow the Python naming conventions (PEP 8) for variables:\n",
    "\n",
    "Use lowercase letters for variable names.\n",
    "\n",
    "Separate words in variable names using underscores to improve readability (e.g., my_variable_name).\n",
    "\n",
    "\n",
    "No Special Characters:-\n",
    "\n",
    "Avoid using special characters such as @, $, %, etc., in variable names.\n",
    "\n",
    "\n",
    "Valid variable names:-\n",
    "\n",
    "my_var\n",
    "\n",
    "myVar\n",
    "\n",
    "myVar123\n",
    "\n",
    "_my_var\n",
    "\n",
    "MY_VAR\n",
    "\n",
    "\n",
    "Invalid variable names:-\n",
    "\n",
    "123var  # Starts with a digit\n",
    "\n",
    "my-var  # Contains a hyphen\n",
    "\n",
    "my$var  # Contains a special character\n",
    "\n"
   ]
  },
  {
   "cell_type": "markdown",
   "id": "47da4441",
   "metadata": {},
   "source": [
    "# What are the standards and conventions followed for the nomenclature of variables in python to improve code readability and maintainability?\n",
    "\n",
    "\n",
    "Here are the key standards and conventions for naming variables in Python:\n",
    "\n",
    "descriptive and meaningful names:- Choose variable names that accurately describe the data they represent or the purpose they serve in your code.\n",
    "\n",
    "lowercase letters:- Variable names should generally be written in all lowercase letters this convention helps distinguish variables from class names  and constants\n",
    "\n",
    "underscores for readability (snake_case):- Separate multiple words in variable names using underscores (_) to enhance readability. \n",
    "\n",
    "Avoid using single-letter variable names:- Except for simple loop counters e.g. i, j, k avoid using single-letter variable names.\n",
    "\n",
    "Avoid reserved keywords:- Avoid using Python reserved keywords e.g. if, else, while or for as variable names as they have special meanings in the language."
   ]
  },
  {
   "cell_type": "markdown",
   "id": "5f9f2b25",
   "metadata": {},
   "source": [
    "# What will happen if a keyword is used as a variable name\n",
    "\n",
    "\n",
    "If a keyword is used as a variable name i it will result in a syntax error or unexpected behavior. Python keywords are reserved for specific purposes within the language and cannot be used as identifiers such as variable names, function names or class names."
   ]
  },
  {
   "cell_type": "markdown",
   "id": "e7ba49d5",
   "metadata": {},
   "source": [
    "# For what purpose def keyword is used?\n",
    "\n",
    "Def keyword is used to define a function. Functions are blocks of reusable code that perform a specific task when called. The def keyword is followed by the function name and a set of parentheses containing optional parameters "
   ]
  },
  {
   "cell_type": "code",
   "execution_count": 3,
   "id": "cc85f573",
   "metadata": {},
   "outputs": [
    {
     "name": "stdout",
     "output_type": "stream",
     "text": [
      "Hello, Alice!\n"
     ]
    }
   ],
   "source": [
    "def greet(name):\n",
    "    print(f\"Hello, {name}!\")\n",
    "    \n",
    "greet(\"Alice\")\n"
   ]
  },
  {
   "cell_type": "markdown",
   "id": "30e9c487",
   "metadata": {},
   "source": [
    "# What is the operation of this special character ‘\\’\n",
    "\n",
    "Backslash character (\\) is known as the escape character  it is used to escape special characters in strings or to create special character sequences\n",
    "\n",
    "\\n: Newline \n",
    "\n",
    "\\\\: Backslash "
   ]
  },
  {
   "cell_type": "markdown",
   "id": "8ad4e6d3",
   "metadata": {},
   "source": [
    "# Give an example of the following conditions:\n",
    "\n",
    "(i) Homogeneous list\n",
    "\n",
    "homogeneous_list = [1, 2, 3, 4, 5]\n",
    "\n",
    "(ii) Heterogeneous set\n",
    "\n",
    "heterogeneous_set = {1, 'apple', 3.14}\n",
    "\n",
    "(iii) Homogeneous tuple\n",
    "\n",
    "homogeneous_tuple = ('apple', 'banana', 'cherry')\n"
   ]
  },
  {
   "cell_type": "markdown",
   "id": "67212abe",
   "metadata": {},
   "source": [
    "#  Explain the mutable and immutable data types with proper explanation & examples.\n",
    "\n",
    "Mutable data types are those whose values can be modified after they are created this means that you can change the contents of a mutable object without creating a new object Examples of mutable data types in Python include lists, dictionaries, sets and objects of custom classes.\n",
    "\n",
    "Immutable data types are those whose values cannot be changed after they are created once an immutable object is created, its value cannot be modified and any attempt to modify it will result in the creation of a new object Examples of immutable data types in Python include integers, floats, strings, tuples and frozensets."
   ]
  },
  {
   "cell_type": "code",
   "execution_count": 4,
   "id": "7785b005",
   "metadata": {},
   "outputs": [
    {
     "name": "stdout",
     "output_type": "stream",
     "text": [
      "[1, 2, 3, 4]\n"
     ]
    }
   ],
   "source": [
    "# Mutable data types \n",
    "\n",
    "my_list = [1, 2, 3]\n",
    "my_list.append(4)  # Modifies \n",
    "print(my_list)  \n",
    "\n",
    "# Imutable data types \n",
    "\n",
    "my_tuple = (1, 2, 3)\n",
    "# Attempting to modify the tuple will result in an error\n",
    "# my_tuple[0] = 4   Raises TypeError: 'tuple' object does not support item assignment\n"
   ]
  },
  {
   "cell_type": "markdown",
   "id": "761a6a1b",
   "metadata": {},
   "source": [
    "# Write a code to create the given structure using only for loop.\n",
    "    *\n",
    "   ***\n",
    "  *****\n",
    " *******\n",
    "*********"
   ]
  },
  {
   "cell_type": "code",
   "execution_count": 5,
   "id": "765160ce",
   "metadata": {},
   "outputs": [
    {
     "name": "stdout",
     "output_type": "stream",
     "text": [
      "    *\n",
      "   ***\n",
      "  *****\n",
      " *******\n",
      "*********\n"
     ]
    }
   ],
   "source": [
    "num_rows = 5\n",
    "\n",
    "for i in range(num_rows):\n",
    "    \n",
    "    for j in range(num_rows - i - 1):\n",
    "        print(\" \", end=\"\")\n",
    "    \n",
    "    for k in range(2*i + 1):\n",
    "        print(\"*\", end=\"\")\n",
    "    \n",
    "    \n",
    "    print()\n"
   ]
  },
  {
   "cell_type": "markdown",
   "id": "f5f5c501",
   "metadata": {},
   "source": [
    "# 10. Write a code to create the given structure using while loop.\n",
    "|||||||||\n",
    "\n",
    " |||||||\n",
    " \n",
    " |||||\n",
    " \n",
    "  |||\n",
    "  \n",
    "   |"
   ]
  },
  {
   "cell_type": "code",
   "execution_count": 7,
   "id": "b8d40847",
   "metadata": {},
   "outputs": [
    {
     "name": "stdout",
     "output_type": "stream",
     "text": [
      "|||||\n",
      " ||||\n",
      "  |||\n",
      "   ||\n",
      "    |\n"
     ]
    }
   ],
   "source": [
    "\n",
    "num_rows = 5\n",
    "\n",
    "\n",
    "row = 0\n",
    "\n",
    "\n",
    "while row < num_rows:\n",
    "    col = 0\n",
    "    while col < row:\n",
    "        print(\" \", end=\"\")\n",
    "        col += 1\n",
    "    \n",
    "  \n",
    "    col = 0\n",
    "    while col < num_rows - row:\n",
    "        print(\"|\", end=\"\")\n",
    "        col += 1\n",
    "    \n",
    "  \n",
    "    print()\n",
    "    \n",
    "    row += 1\n"
   ]
  },
  {
   "cell_type": "code",
   "execution_count": null,
   "id": "f358e96f",
   "metadata": {},
   "outputs": [],
   "source": []
  }
 ],
 "metadata": {
  "kernelspec": {
   "display_name": "Python 3 (ipykernel)",
   "language": "python",
   "name": "python3"
  },
  "language_info": {
   "codemirror_mode": {
    "name": "ipython",
    "version": 3
   },
   "file_extension": ".py",
   "mimetype": "text/x-python",
   "name": "python",
   "nbconvert_exporter": "python",
   "pygments_lexer": "ipython3",
   "version": "3.11.4"
  }
 },
 "nbformat": 4,
 "nbformat_minor": 5
}
