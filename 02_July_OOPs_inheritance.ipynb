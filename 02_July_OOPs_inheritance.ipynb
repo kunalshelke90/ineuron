{
 "cells": [
  {
   "cell_type": "markdown",
   "id": "6980a987",
   "metadata": {},
   "source": [
    "# Explain what inheritance is in object-oriented programming and why it is used.\n",
    "\n",
    "Inheritance is a concept in OOP that allows a new class (called a derived class or subclass) to inherit properties and behaviors (attributes and methods) from an existing class (called a base class or superclass). The derived class can then extend or modify these properties and behaviors as needed.It is used commonly because Code Reusability and Ease of Maintenance\n",
    "\n"
   ]
  },
  {
   "cell_type": "markdown",
   "id": "3aa5c88c",
   "metadata": {},
   "source": [
    "# Discuss the concept of single inheritance and multiple inheritance, highlighting their differences and advantages\n",
    "\n",
    "Single inheritance refers to the scenario where a class inherits attributes and methods from only one parent class and advantages are Simplicity , Reduced Complexity and Easy to Understand\n",
    "\n",
    "Multiple inheritance occurs when a class inherits attributes and methods from more than one parent class and advantages are Code Reusability and Enhanced Functionality\n",
    "\n",
    "# Difference \n",
    "\n",
    "Number of Parent Classes: Single inheritance involves inheriting from a single parent class  whereas multiple inheritance involves inheriting from multiple parent classes.\n",
    "\n",
    "Relationship Complexity: Single inheritance typically results in a simpler class hierarchy while multiple inheritance can lead to more \n",
    "complex relationships between classes.\n",
    "\n",
    "Code Clarity: Single inheritance generally results  in clearer and more straightforward code while multiple inheritance can sometimes introduce ambiguity and increase code complexity."
   ]
  },
  {
   "cell_type": "code",
   "execution_count": 1,
   "id": "e98d09b0",
   "metadata": {},
   "outputs": [],
   "source": [
    "# single \n",
    "class Vehicle:\n",
    "    def drive(self):\n",
    "        print(\"Driving\")\n",
    "\n",
    "class Car(Vehicle):\n",
    "    def park(self):\n",
    "        print(\"Parking\")\n",
    "\n",
    "\n",
    "# multi\n",
    "\n",
    "class Vehicle:\n",
    "    def drive(self):\n",
    "        print(\"Driving\")\n",
    "\n",
    "class PublicTransport:\n",
    "    def transport_passengers(self):\n",
    "        print(\"Transporting passengers\")\n",
    "\n",
    "class Bus(Vehicle, PublicTransport):\n",
    "    def park(self):\n",
    "        print(\"Parking\")"
   ]
  },
  {
   "cell_type": "markdown",
   "id": "2ffc6c97",
   "metadata": {},
   "source": [
    "# Explain the terms \"base class\" and \"derived class\" in the context of inheritance.\n",
    "\n",
    "Base Class also known as a superclass or parent class as is the class from which other classes (called derived classes or subclasses) inherit attributes and methods. It defines common attributes and methods that are shared by multiple subclasses. Base classes serve as a template or blueprint for creating derived classes and do not inherit from any other class.\n",
    "\n",
    "A derived class also known as a subclass or child class as it  a class that inherits attributes and methods from a base class. It extends or modifies the functionality of the base class by adding new attributes or methods, or by overriding existing ones. It can have their own unique attributes and methods in addition to those inherited from the base class and it can inherit from one or more base classes, depending on the inheritance model used single inheritance or multiple inheritance."
   ]
  },
  {
   "cell_type": "markdown",
   "id": "2a515e46",
   "metadata": {},
   "source": [
    "# What is the significance of the \"protected\" access modifier in inheritance? How does it differ from \"private\" and \"public\" modifiers?\n",
    "\n",
    "Attributes or methods declared as \"protected\" are accessible within the class where they are defined and within subclasses or derived classes but are not accessible from outside the class hierarchy. This access modifier is particularly useful in inheritance scenarios where subclasses need access to certain attributes or methods of the base class for customization or extension, but those members should not be directly accessible outside the class hierarchy. Protected  provide a middle ground between public and private members allowing for controlled access within class hierarchies.\n",
    "\n",
    "Attributes or methods declared as \"private\" are accessible only within the class where they are defined they are not accessible from outside the class, including subclasses.\n",
    "\n",
    "Attributes or methods declared as \"public\" are accessible from any part of the program, both within and outside the class hierarchy\n",
    "they have the least restrictive access and are often used for interface methods or attributes that need to be accessible from external code."
   ]
  },
  {
   "cell_type": "markdown",
   "id": "875d7504",
   "metadata": {},
   "source": [
    "#  What is the purpose of the \"super\" keyword in inheritance? Provide an example.\n",
    "\n",
    "The super keyword in inheritance is used to call methods and access attributes of the parent class from within a subclass it allows subclasses to invoke methods defined in the superclass and provides a way to extend or customize the behavior of the superclass's methods. "
   ]
  },
  {
   "cell_type": "code",
   "execution_count": 2,
   "id": "d9c2c985",
   "metadata": {},
   "outputs": [
    {
     "name": "stdout",
     "output_type": "stream",
     "text": [
      "Animal speaks\n",
      "Dog barks\n"
     ]
    }
   ],
   "source": [
    "class Animal:\n",
    "    def __init__(self, name):\n",
    "        self.name = name\n",
    "\n",
    "    def speak(self):\n",
    "        print(\"Animal speaks\")\n",
    "\n",
    "class Dog(Animal):\n",
    "    def __init__(self, name, breed):\n",
    "        super().__init__(name)  \n",
    "        self.breed = breed\n",
    "\n",
    "    def speak(self):\n",
    "        super().speak()  \n",
    "        print(\"Dog barks\")\n",
    "\n",
    "\n",
    "dog = Dog(\"Buddy\", \"Golden Retriever\")\n",
    "\n",
    "\n",
    "dog.speak()\n"
   ]
  },
  {
   "cell_type": "markdown",
   "id": "232c8a03",
   "metadata": {},
   "source": [
    "# Create a base class called \"Vehicle\" with attributes like \"make\", \"model\", and \"year\".\n",
    "\n",
    "Then, create a derived class called \"Car\" that inherits from \"Vehicle\" and adds an attribute called \"fuel_type\". Implement appropriate methods in both classes."
   ]
  },
  {
   "cell_type": "code",
   "execution_count": null,
   "id": "606495d7",
   "metadata": {},
   "outputs": [],
   "source": [
    "class Vehicle:\n",
    "    def __init__(self, make, model, year):\n",
    "        self.make = make\n",
    "        self.model = model\n",
    "        self.year = year\n",
    "\n",
    "    def display_info(self):\n",
    "        print(f\"Make: {self.make}, Model: {self.model}, Year: {self.year}\")\n",
    "\n",
    "\n",
    "class Car(Vehicle):\n",
    "    def __init__(self, make, model, year, fuel_type):\n",
    "        super().__init__(make, model, year)\n",
    "        self.fuel_type = fuel_type\n",
    "\n",
    "    def display_info(self):\n",
    "        super().display_info()\n",
    "        print(f\"Fuel Type: {self.fuel_type}\")\n",
    "\n",
    "\n",
    "\n",
    "vehicle1 = Vehicle(\"Toyota\", \"Camry\", 2022)\n",
    "vehicle1.display_info()\n",
    "\n",
    "car1 = Car(\"Honda\", \"Accord\", 2020, \"Gasoline\")\n",
    "car1.display_info()\n"
   ]
  },
  {
   "cell_type": "markdown",
   "id": "eec70e91",
   "metadata": {},
   "source": [
    "# Create a base class called \"Employee\" with attributes like \"name\" and \"salary.\"\n",
    "\n",
    "Derive two classes, \"Manager\" and \"Developer,\" from \"Employee.\" Add an additional\n",
    "attribute called \"department\" for the \"Manager\" class and \"programming_language\"\n",
    "for the \"Developer\" class.\n"
   ]
  },
  {
   "cell_type": "code",
   "execution_count": null,
   "id": "4dcfd524",
   "metadata": {},
   "outputs": [],
   "source": [
    "class Employee:\n",
    "    def __init__(self, name, salary):\n",
    "        self.name = name\n",
    "        self.salary = salary\n",
    "\n",
    "    def display_info(self):\n",
    "        print(f\"Name: {self.name}, Salary: {self.salary}\")\n",
    "\n",
    "\n",
    "class Manager(Employee):\n",
    "    def __init__(self, name, salary, department):\n",
    "        super().__init__(name, salary)\n",
    "        self.department = department\n",
    "\n",
    "    def display_info(self):\n",
    "        super().display_info()\n",
    "        print(f\"Department: {self.department}\")\n",
    "\n",
    "\n",
    "class Developer(Employee):\n",
    "    def __init__(self, name, salary, programming_language):\n",
    "        super().__init__(name, salary)\n",
    "        self.programming_language = programming_language\n",
    "\n",
    "    def display_info(self):\n",
    "        super().display_info()\n",
    "        print(f\"Programming Language: {self.programming_language}\")\n",
    "\n",
    "\n",
    "employee1 = Employee(\"John Doe\", 50000)\n",
    "employee1.display_info()\n",
    "\n",
    "manager1 = Manager(\"Alice Smith\", 80000, \"Engineering\")\n",
    "manager1.display_info()\n",
    "\n",
    "developer1 = Developer(\"Bob Johnson\", 60000, \"Python\")\n",
    "developer1.display_info()\n"
   ]
  },
  {
   "cell_type": "markdown",
   "id": "5c74d3f9",
   "metadata": {},
   "source": [
    "# Design a base class called \"Shape\" with attributes like \"colour\" and \"border_width.\"\n",
    "\n",
    "Create derived classes, \"Rectangle\" and \"Circle,\" that inherit from \"Shape\" and add\n",
    "specific attributes like \"length\" and \"width\" for the \"Rectangle\" class and \"radius\" for\n",
    "the \"Circle\" class."
   ]
  },
  {
   "cell_type": "code",
   "execution_count": null,
   "id": "afa8f918",
   "metadata": {},
   "outputs": [],
   "source": [
    "class Shape:\n",
    "    def __init__(self, colour, border_width):\n",
    "        self.colour = colour\n",
    "        self.border_width = border_width\n",
    "\n",
    "    def display_info(self):\n",
    "        print(f\"Colour: {self.colour}, Border Width: {self.border_width}\")\n",
    "\n",
    "\n",
    "class Rectangle(Shape):\n",
    "    def __init__(self, colour, border_width, length, width):\n",
    "        super().__init__(colour, border_width)\n",
    "        self.length = length\n",
    "        self.width = width\n",
    "\n",
    "    def display_info(self):\n",
    "        super().display_info()\n",
    "        print(f\"Length: {self.length}, Width: {self.width}\")\n",
    "\n",
    "\n",
    "class Circle(Shape):\n",
    "    def __init__(self, colour, border_width, radius):\n",
    "        super().__init__(colour, border_width)\n",
    "        self.radius = radius\n",
    "\n",
    "    def display_info(self):\n",
    "        super().display_info()\n",
    "        print(f\"Radius: {self.radius}\")\n",
    "\n",
    "\n",
    "rectangle = Rectangle(\"Blue\", 2, 5, 3)\n",
    "rectangle.display_info()\n",
    "\n",
    "circle = Circle(\"Red\", 1, 4)\n",
    "circle.display_info()\n"
   ]
  },
  {
   "cell_type": "markdown",
   "id": "db19ee6f",
   "metadata": {},
   "source": [
    "# Create a base class called \"Device\" with attributes like \"brand\" and \"model.\" Derive\n",
    "\n",
    "two classes, \"Phone\" and \"Tablet,\" from \"Device.\" Add specific attributes like\n",
    "\"screen_size\" for the \"Phone\" class and \"battery_capacity\" for the \"Tablet\" class."
   ]
  },
  {
   "cell_type": "code",
   "execution_count": null,
   "id": "c14887ef",
   "metadata": {},
   "outputs": [],
   "source": [
    "class Device:\n",
    "    def __init__(self, brand, model):\n",
    "        self.brand = brand\n",
    "        self.model = model\n",
    "\n",
    "    def display_info(self):\n",
    "        print(f\"Brand: {self.brand}, Model: {self.model}\")\n",
    "\n",
    "\n",
    "class Phone(Device):\n",
    "    def __init__(self, brand, model, screen_size):\n",
    "        super().__init__(brand, model)\n",
    "        self.screen_size = screen_size\n",
    "\n",
    "    def display_info(self):\n",
    "        super().display_info()\n",
    "        print(f\"Screen Size: {self.screen_size}\")\n",
    "\n",
    "\n",
    "class Tablet(Device):\n",
    "    def __init__(self, brand, model, battery_capacity):\n",
    "        super().__init__(brand, model)\n",
    "        self.battery_capacity = battery_capacity\n",
    "\n",
    "    def display_info(self):\n",
    "        super().display_info()\n",
    "        print(f\"Battery Capacity: {self.battery_capacity} mAh\")\n",
    "\n",
    "\n",
    "# Example \n",
    "phone = Phone(\"Samsung\", \"Galaxy S21\", \"6.2 inches\")\n",
    "phone.display_info()\n",
    "\n",
    "tablet = Tablet(\"Apple\", \"iPad Pro\", 10000)\n",
    "tablet.display_info()\n"
   ]
  },
  {
   "cell_type": "markdown",
   "id": "42b6a03a",
   "metadata": {},
   "source": [
    "# Create a base class called \"BankAccount\" with attributes like \"account_number\" and\"balance.\" \n",
    "\n",
    "Derive two classes, \"SavingsAccount\" and \"CheckingAccount,\" from\"BankAccount.\" Add specific methods like \"calculate_interest\" for the\"SavingsAccount\" class and \"deduct_fees\" for the \"CheckingAccount\" class."
   ]
  },
  {
   "cell_type": "code",
   "execution_count": null,
   "id": "be13d348",
   "metadata": {},
   "outputs": [],
   "source": [
    "class BankAccount:\n",
    "    def __init__(self, account_number, balance):\n",
    "        self.account_number = account_number\n",
    "        self.balance = balance\n",
    "\n",
    "    def display_info(self):\n",
    "        print(f\"Account Number: {self.account_number}, Balance: {self.balance}\")\n",
    "\n",
    "\n",
    "class SavingsAccount(BankAccount):\n",
    "    def calculate_interest(self, interest_rate):\n",
    "        interest = self.balance * (interest_rate / 100)\n",
    "        self.balance += interest\n",
    "        print(f\"Interest calculated. New balance: {self.balance}\")\n",
    "\n",
    "\n",
    "class CheckingAccount(BankAccount):\n",
    "    def deduct_fees(self, fee):\n",
    "        self.balance -= fee\n",
    "        print(f\"Fees deducted. New balance: {self.balance}\")\n",
    "\n",
    "\n",
    "# Example \n",
    "savings_account = SavingsAccount(\"SA123\", 1000)\n",
    "savings_account.display_info()\n",
    "savings_account.calculate_interest(2)\n",
    "\n",
    "checking_account = CheckingAccount(\"CA456\", 2000)\n",
    "checking_account.display_info()\n",
    "checking_account.deduct_fees(10)\n"
   ]
  }
 ],
 "metadata": {
  "kernelspec": {
   "display_name": "Python 3 (ipykernel)",
   "language": "python",
   "name": "python3"
  },
  "language_info": {
   "codemirror_mode": {
    "name": "ipython",
    "version": 3
   },
   "file_extension": ".py",
   "mimetype": "text/x-python",
   "name": "python",
   "nbconvert_exporter": "python",
   "pygments_lexer": "ipython3",
   "version": "3.11.4"
  }
 },
 "nbformat": 4,
 "nbformat_minor": 5
}
