{
 "cells": [
  {
   "cell_type": "markdown",
   "id": "d7ee4ba1",
   "metadata": {},
   "source": [
    "# In Python, what is the difference between a built-in function and a user-defined function? Provide an example of each\n",
    "\n",
    " Built-in functions are those that are already defined in Python libraries and we can call them directly example print(),len()etc\n",
    " \n",
    " User-defined functions are functions that we create ourselves in our program and then call them wherever needed "
   ]
  },
  {
   "cell_type": "code",
   "execution_count": 2,
   "id": "8bef41f8",
   "metadata": {},
   "outputs": [
    {
     "name": "stdout",
     "output_type": "stream",
     "text": [
      "Built in Function\n"
     ]
    }
   ],
   "source": [
    "# user defined\n",
    "def multiply(a, b):\n",
    "         product = a * b\n",
    "         return product\n",
    "\n",
    "#built in function \n",
    "print(\"Built in Function\")"
   ]
  },
  {
   "cell_type": "markdown",
   "id": "b733a614",
   "metadata": {},
   "source": [
    "# How can you pass arguments to a function in Python? Explain the difference between positional arguments and keyword arguments.\n",
    "\n",
    "Positional arguments are passed based on their order in the function call and values are assigned to function parameters in the same order they appear changing the order of arguments can lead to unexpected results.\n",
    "\n",
    "Keyword arguments use parameter names during the function call and the order of arguments doesn't matter as long as the parameter names match."
   ]
  },
  {
   "cell_type": "code",
   "execution_count": null,
   "id": "98733c58",
   "metadata": {},
   "outputs": [],
   "source": [
    "# Positional Arguments\n",
    "def nameAge(name, age):\n",
    "         print(\"Hi, I am\", name)\n",
    "         print(\"My age is\", age)\n",
    "\n",
    "nameAge(\"Prince\", 20)  # Correct order\n",
    "# nameAge(20, \"Prince\")  # Incorrect order\n",
    "        \n",
    "# Keyword Arguments       \n",
    "def nameAge(name, age):\n",
    "         print(\"Hi, I am\", name)\n",
    "         print(\"My age is\", age)\n",
    "\n",
    "nameAge(name=\"Prince\", age=20)  # Correct order\n",
    "nameAge(age=20, name=\"Prince\")  # Correct order "
   ]
  },
  {
   "cell_type": "markdown",
   "id": "94aa44ef",
   "metadata": {},
   "source": [
    "# What is the purpose of the return statement in a function? Can a function have multiple return statements? Explain with an example.\n",
    "\n",
    "The return statement allows a function to send a value or object back to the code that called it and when a return statement is executed the function exits immediately passing back the specified return value. The function can have multiple return statements but only one of them will be executed and once a return statement is encountered the function exits and subsequent code is not executed."
   ]
  },
  {
   "cell_type": "code",
   "execution_count": 15,
   "id": "f1969d5e",
   "metadata": {},
   "outputs": [],
   "source": [
    "def add(a, b):\n",
    "       return a + b\n",
    "    \n",
    "def subtract(a,b):\n",
    "    if a > b:\n",
    "        return a - b\n",
    "    else:\n",
    "        return b - a\n",
    "\n",
    "result1 = add(2, 3)  \n",
    "result2 = subtract(5, 3)  "
   ]
  },
  {
   "cell_type": "markdown",
   "id": "0b026408",
   "metadata": {},
   "source": [
    "# What are lambda functions in Python? How are they different from regular functions? Provide an example where a lambda function can be useful.\n",
    "\n",
    "Lambda functions can only contain a single expression and cannot contain multiple lines of code and it is  concise, anonymous functions created using the lambda keyword.\n",
    "\n",
    "Regular functions are reusable and have a name while lambda functions are typically used for short immediate operations."
   ]
  },
  {
   "cell_type": "code",
   "execution_count": 16,
   "id": "ebcd8c07",
   "metadata": {},
   "outputs": [
    {
     "name": "stdout",
     "output_type": "stream",
     "text": [
      "[(3, 2), (1, 5), (2, 8)]\n"
     ]
    }
   ],
   "source": [
    "data = [(1, 5), (3, 2), (2, 8)]\n",
    "sorted_data = sorted(data, key=lambda x: x[1])\n",
    "print(sorted_data)  "
   ]
  },
  {
   "cell_type": "markdown",
   "id": "babc9c81",
   "metadata": {},
   "source": [
    "# How does the concept of \"scope\" apply to functions in Python? Explain the difference between local scope and global scope\n",
    "\n",
    "Variables defined inside a function are local to that function they are only accessible within the block of code of the function where they are defined.When a function is called a new local scope is created any variables defined within the function are only accessible within that specific function call this helps prevent naming conflicts with variables from other parts of your code.\n",
    "\n",
    "Variables defined outside of any function are considered global variables. They are accessible from anywhere in your program including inside functions it generally recommended to avoid using global variables as they can make code harder to understand and maintain if multiple functions need to modify the same data consider using arguments return values or classes."
   ]
  },
  {
   "cell_type": "code",
   "execution_count": 18,
   "id": "a77cad71",
   "metadata": {},
   "outputs": [
    {
     "name": "stdout",
     "output_type": "stream",
     "text": [
      "Inner Function: This is a local variable\n",
      "Global Variable after the function call: This is a global variable\n"
     ]
    }
   ],
   "source": [
    "x = \"This is a global variable\"  # Global variable\n",
    "def outer_function():\n",
    "    x = \"This is a local variable\"  # Local variable\n",
    "    print(\"Inner Function:\", x)\n",
    "\n",
    "    def inner_function():\n",
    "        x = \"This is another local variable\"  # Another local variable\n",
    "        print(\"Inner Inner Function:\", x)\n",
    "        inner_function()\n",
    "        print(\"Outer Function:\", x)\n",
    "\n",
    "outer_function()\n",
    "print(\"Global Variable after the function call:\", x)"
   ]
  },
  {
   "cell_type": "markdown",
   "id": "798fd64a",
   "metadata": {},
   "source": [
    "# How can you use the \"return\" statement in a Python function to return multiple values?\n",
    "\n"
   ]
  },
  {
   "cell_type": "code",
   "execution_count": 19,
   "id": "e713e23a",
   "metadata": {},
   "outputs": [],
   "source": [
    "def get_name():\n",
    "    first_name = \"Sunny\"\n",
    "    last_name = \"Krish\"\n",
    "    return first_name, last_name\n",
    "\n",
    "first, last = get_name()\n",
    "print(first)  \n",
    "print(last)  "
   ]
  },
  {
   "cell_type": "markdown",
   "id": "a67627d1",
   "metadata": {},
   "source": [
    "# What is the difference between the \"pass by value\" and \"pass by reference\" concepts when it comes to function arguments in Python?\n",
    "\n",
    "When you pass an immutable object like numbers, strings, or tuples to a function Python creates a copy of the object value and passes that copy to the function any changes made to the parameter inside the function do not affect the original object outside the function.\n",
    "\n",
    "When you pass a mutable object like lists or dictionaries to a function and Python passes a reference to the original object changes made to the parameter inside the function directly affect the original object outside the function.\n"
   ]
  },
  {
   "cell_type": "code",
   "execution_count": 20,
   "id": "30b80282",
   "metadata": {},
   "outputs": [
    {
     "name": "stdout",
     "output_type": "stream",
     "text": [
      "Value updated to 12\n",
      "Original num value: 6\n",
      "List updated to ['E', 'D']\n",
      "Original list: ['E', 'D']\n"
     ]
    }
   ],
   "source": [
    "def call_by_value(x):\n",
    "         x = x * 2\n",
    "         print(\"Value updated to\", x)\n",
    "\n",
    "num = 6\n",
    "call_by_value(num)\n",
    "print(\"Original num value:\", num) \n",
    "    \n",
    "    \n",
    "def call_by_reference(my_list):\n",
    "         my_list.append(\"D\")\n",
    "         print(\"List updated to\", my_list)\n",
    "\n",
    "my_list = [\"E\"]\n",
    "call_by_reference(my_list)\n",
    "print(\"Original list:\", my_list)  "
   ]
  },
  {
   "cell_type": "markdown",
   "id": "17f2db6c",
   "metadata": {},
   "source": [
    "# Create a function that can intake integer or decimal value and do following operations:\n",
    "\n",
    "a. Logarithmic function (log x)\n",
    "\n",
    "b. Exponential function (exp(x))\n",
    "\n",
    "c. Power function with base 2 (2x)\n",
    "\n",
    "d. Square root"
   ]
  },
  {
   "cell_type": "code",
   "execution_count": 2,
   "id": "a6d3293c",
   "metadata": {},
   "outputs": [
    {
     "name": "stdout",
     "output_type": "stream",
     "text": [
      "(0.6931471805599453, 7.38905609893065, 4, 1.4142135623730951)\n"
     ]
    }
   ],
   "source": [
    "import math\n",
    "\n",
    "def math_operations(x):\n",
    "    log_x = math.log(x)\n",
    "    exp_x = math.exp(x)\n",
    "    power_2_x = 2 ** x\n",
    "    sqrt_x = math.sqrt(x)\n",
    "    return log_x, exp_x, power_2_x, sqrt_x\n",
    "\n",
    "\n",
    "print(math_operations(2))\n",
    "\n"
   ]
  },
  {
   "cell_type": "markdown",
   "id": "b29a93c9",
   "metadata": {},
   "source": [
    "# Create a function that takes a full name as an argument and returns first name and last name"
   ]
  },
  {
   "cell_type": "code",
   "execution_count": 1,
   "id": "ccd12f4b",
   "metadata": {},
   "outputs": [
    {
     "name": "stdout",
     "output_type": "stream",
     "text": [
      "('krish', 'shinde')\n"
     ]
    }
   ],
   "source": [
    "def split_name(full_name):\n",
    "    names = full_name.split()\n",
    "    first_name = names[0]\n",
    "    last_name = names[-1] if len(names) > 1 else \"\"\n",
    "    return first_name, last_name\n",
    "\n",
    "print(split_name(\"krish shinde\")) \n"
   ]
  },
  {
   "cell_type": "code",
   "execution_count": null,
   "id": "eff3c418",
   "metadata": {},
   "outputs": [],
   "source": []
  }
 ],
 "metadata": {
  "kernelspec": {
   "display_name": "Python 3 (ipykernel)",
   "language": "python",
   "name": "python3"
  },
  "language_info": {
   "codemirror_mode": {
    "name": "ipython",
    "version": 3
   },
   "file_extension": ".py",
   "mimetype": "text/x-python",
   "name": "python",
   "nbconvert_exporter": "python",
   "pygments_lexer": "ipython3",
   "version": "3.11.4"
  }
 },
 "nbformat": 4,
 "nbformat_minor": 5
}
