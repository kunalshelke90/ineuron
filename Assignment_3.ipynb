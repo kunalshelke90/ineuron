{
 "cells": [
  {
   "cell_type": "markdown",
   "id": "194c1139",
   "metadata": {},
   "source": [
    "# Why are functions advantageous to have in your programs?\n",
    "\n",
    "\n",
    "Functions are advantageous in programs because they promote code reuse, improve readability and allow for better organization and modularization of code.\n"
   ]
  },
  {
   "cell_type": "markdown",
   "id": "ed4e586d",
   "metadata": {},
   "source": [
    "#  When does the code in a function run: when it's specified or when it's called?\n",
    "\n",
    "\n",
    "The code in a function runs when the function is called or invoked."
   ]
  },
  {
   "cell_type": "markdown",
   "id": "f899d855",
   "metadata": {},
   "source": [
    "# What statement creates a function?\n",
    "\n",
    "\n",
    "The def statement is used to create a function in Python."
   ]
  },
  {
   "cell_type": "markdown",
   "id": "0c9459a2",
   "metadata": {},
   "source": [
    "#  What is the difference between a function and a function call?\n",
    "\n",
    "\n",
    "A function is a block of code that performs a specific task when called. \n",
    "\n",
    "A function call is the act of invoking or executing a function."
   ]
  },
  {
   "cell_type": "markdown",
   "id": "089d3deb",
   "metadata": {},
   "source": [
    "# How many global scopes are there in a Python program? How many local scopes?\n",
    "\n",
    "In a Python program there is one global scope and multiple local scopes (one local scope per function call).\n",
    "\n",
    "\n"
   ]
  },
  {
   "cell_type": "markdown",
   "id": "a522c284",
   "metadata": {},
   "source": [
    "# What happens to variables in a local scope when the function call returns?\n",
    "\n",
    "Variables in a local scope are destroyed or cleaned up when the function call returns meaning they no longer exist outside the function."
   ]
  },
  {
   "cell_type": "markdown",
   "id": "b2d87c57",
   "metadata": {},
   "source": [
    "# What is the concept of a return value? Is it possible to have a return value in an expression?\n",
    "\n",
    "\n",
    "\n",
    "A return value is the value that a function sends back to the caller it represents the result of the function execution. Yes it is possible to use a return value in an expression.\n",
    "\n"
   ]
  },
  {
   "cell_type": "markdown",
   "id": "00da9722",
   "metadata": {},
   "source": [
    "# If a function does not have a return statement, what is the return value of a call to that function?\n",
    "\n",
    "\n",
    "If a function does not have a return statement the return value of a call to that function is None.\n",
    "\n",
    "\n"
   ]
  },
  {
   "cell_type": "markdown",
   "id": "aafe43d9",
   "metadata": {},
   "source": [
    "# How do you make a function variable refer to the global variable?\n",
    "\n",
    "\n",
    "To make a function variable refer to the global variable we can use the global keyword inside the function. For example, global_var = 10 inside the function will refer to the global variable global_var."
   ]
  },
  {
   "cell_type": "markdown",
   "id": "93e76aab",
   "metadata": {},
   "source": [
    "# What is the data type of None?\n",
    "\n",
    "\n",
    "The data type of None is NoneType."
   ]
  },
  {
   "cell_type": "markdown",
   "id": "c966dfdb",
   "metadata": {},
   "source": [
    "# What does the sentence import areallyourpetsnamederic do?\n",
    "\n",
    "\n",
    "The sentence import areallyourpetsnamederic is not a valid python import statement and will result in a syntax error."
   ]
  },
  {
   "cell_type": "markdown",
   "id": "a09b7af2",
   "metadata": {},
   "source": [
    "#  If you had a bacon() feature in a spam module, what would you call it after importing spam?\n",
    "\n",
    "If you had a bacon() feature in a spam module we would call it after importing spam using spam.bacon().\n",
    "\n"
   ]
  },
  {
   "cell_type": "markdown",
   "id": "d8786a43",
   "metadata": {},
   "source": [
    "# What can you do to save a programme from crashing if it encounters an error?\n",
    "\n",
    "\n",
    "To save a program from crashing if it encounters an error we can use exception handling techniques such as try-except blocks to handle specific types of errors gracefully."
   ]
  },
  {
   "cell_type": "markdown",
   "id": "a593ea93",
   "metadata": {},
   "source": [
    "#  What is the purpose of the try clause? What is the purpose of the except clause?\n",
    "\n",
    "\n",
    "The try clause is used to enclose code that might raise an exception its purpose is to test a block of code for errors. \n",
    "\n",
    "The except clause is used to handle specific types of exceptions that may occur in the try block its  purpose is to catch and handle exceptions that occur during execution."
   ]
  },
  {
   "cell_type": "code",
   "execution_count": null,
   "id": "e05191aa",
   "metadata": {},
   "outputs": [],
   "source": []
  },
  {
   "cell_type": "code",
   "execution_count": null,
   "id": "0bc42fb8",
   "metadata": {},
   "outputs": [],
   "source": []
  }
 ],
 "metadata": {
  "kernelspec": {
   "display_name": "Python 3 (ipykernel)",
   "language": "python",
   "name": "python3"
  },
  "language_info": {
   "codemirror_mode": {
    "name": "ipython",
    "version": 3
   },
   "file_extension": ".py",
   "mimetype": "text/x-python",
   "name": "python",
   "nbconvert_exporter": "python",
   "pygments_lexer": "ipython3",
   "version": "3.11.4"
  }
 },
 "nbformat": 4,
 "nbformat_minor": 5
}
