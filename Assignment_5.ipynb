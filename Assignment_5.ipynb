{
 "cells": [
  {
   "cell_type": "markdown",
   "id": "ec8ff613",
   "metadata": {},
   "source": [
    "# What does an empty dictionary's code look like?\n",
    "\n",
    "\n"
   ]
  },
  {
   "cell_type": "code",
   "execution_count": 1,
   "id": "919630ca",
   "metadata": {},
   "outputs": [],
   "source": [
    "my_dict = {}\n"
   ]
  },
  {
   "cell_type": "markdown",
   "id": "7b731e33",
   "metadata": {},
   "source": [
    "# What is the value of a dictionary value with the key 'foo' and the value 42?\n",
    "\n"
   ]
  },
  {
   "cell_type": "code",
   "execution_count": 2,
   "id": "9fded632",
   "metadata": {},
   "outputs": [],
   "source": [
    "my_dict = {'foo': 42}\n"
   ]
  },
  {
   "cell_type": "markdown",
   "id": "46545888",
   "metadata": {},
   "source": [
    "#  What is the most significant distinction between a dictionary and a list?\n",
    "\n",
    "The most significant distinction between a dictionary and a list is that a dictionary stores data in key-value pairs while a list stores data in ordered sequences of elements."
   ]
  },
  {
   "cell_type": "markdown",
   "id": "9b078635",
   "metadata": {},
   "source": [
    "# What happens if you try to access spam['foo'] if spam is {'bar': 100}?\n",
    "\n",
    "If you try to access spam['foo'] when spam is {'bar': 100}  it will raise a keyerror because the key 'foo' does not exist in the dictionary spam."
   ]
  },
  {
   "cell_type": "markdown",
   "id": "dbb538a2",
   "metadata": {},
   "source": [
    "# If a dictionary is stored in spam, what is the difference between the expressions 'cat' in spam and 'cat' in spam.keys()?\n",
    "\n",
    "The expression 'cat' in spam checks if 'cat' is a key in the dictionary spam while the expression 'cat' in spam.keys() explicitly checks if 'cat' is a key in spam's keys."
   ]
  },
  {
   "cell_type": "markdown",
   "id": "9c5213a8",
   "metadata": {},
   "source": [
    "# If a dictionary is stored in spam, what is the difference between the expressions 'cat' in spam and 'cat' in spam.values()?\n",
    "\n",
    "The expression 'cat' in spam checks if 'cat' is a key in the dictionary spam while the expression 'cat' in spam.values() checks if 'cat' is a value in spam's values.\n"
   ]
  },
  {
   "cell_type": "markdown",
   "id": "71484bca",
   "metadata": {},
   "source": [
    "# . What is a shortcut for the following code?\n",
    "\n",
    "if 'color' not in spam:\n",
    "\n",
    "spam['color'] = 'black'\n"
   ]
  },
  {
   "cell_type": "code",
   "execution_count": 4,
   "id": "3fc87fdd",
   "metadata": {},
   "outputs": [
    {
     "ename": "NameError",
     "evalue": "name 'spam' is not defined",
     "output_type": "error",
     "traceback": [
      "\u001b[1;31m---------------------------------------------------------------------------\u001b[0m",
      "\u001b[1;31mNameError\u001b[0m                                 Traceback (most recent call last)",
      "Cell \u001b[1;32mIn[4], line 1\u001b[0m\n\u001b[1;32m----> 1\u001b[0m spam[\u001b[38;5;124m'\u001b[39m\u001b[38;5;124mcolor\u001b[39m\u001b[38;5;124m'\u001b[39m] \u001b[38;5;241m=\u001b[39m \u001b[38;5;124m'\u001b[39m\u001b[38;5;124mblack\u001b[39m\u001b[38;5;124m'\u001b[39m\n\u001b[0;32m      2\u001b[0m spam[\u001b[38;5;124m'\u001b[39m\u001b[38;5;124mcolor\u001b[39m\u001b[38;5;124m'\u001b[39m] \u001b[38;5;241m=\u001b[39m spam\u001b[38;5;241m.\u001b[39mget(\u001b[38;5;124m'\u001b[39m\u001b[38;5;124mcolor\u001b[39m\u001b[38;5;124m'\u001b[39m, \u001b[38;5;124m'\u001b[39m\u001b[38;5;124mblack\u001b[39m\u001b[38;5;124m'\u001b[39m)\n",
      "\u001b[1;31mNameError\u001b[0m: name 'spam' is not defined"
     ]
    }
   ],
   "source": [
    "spam['color'] = spam.get('color', 'black')\n",
    "\n"
   ]
  },
  {
   "cell_type": "markdown",
   "id": "55dbb9f1",
   "metadata": {},
   "source": [
    "# How do you \"pretty print\" dictionary values using which module and function?\n",
    "\n"
   ]
  },
  {
   "cell_type": "code",
   "execution_count": 6,
   "id": "3ed85b8f",
   "metadata": {},
   "outputs": [
    {
     "name": "stdout",
     "output_type": "stream",
     "text": [
      "{'age': 30, 'city': 'chennai', 'name': 'apple'}\n"
     ]
    }
   ],
   "source": [
    "import pprint\n",
    "\n",
    "my_dict = {'name': 'apple', 'age': 30, 'city': 'chennai'}\n",
    "pprint.pprint(my_dict)\n"
   ]
  },
  {
   "cell_type": "code",
   "execution_count": null,
   "id": "65ea01c1",
   "metadata": {},
   "outputs": [],
   "source": []
  }
 ],
 "metadata": {
  "kernelspec": {
   "display_name": "Python 3 (ipykernel)",
   "language": "python",
   "name": "python3"
  },
  "language_info": {
   "codemirror_mode": {
    "name": "ipython",
    "version": 3
   },
   "file_extension": ".py",
   "mimetype": "text/x-python",
   "name": "python",
   "nbconvert_exporter": "python",
   "pygments_lexer": "ipython3",
   "version": "3.11.4"
  }
 },
 "nbformat": 4,
 "nbformat_minor": 5
}
